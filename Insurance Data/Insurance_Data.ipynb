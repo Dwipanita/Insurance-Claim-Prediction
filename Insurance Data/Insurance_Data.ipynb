{
  "nbformat": 4,
  "nbformat_minor": 0,
  "metadata": {
    "colab": {
      "provenance": [],
      "collapsed_sections": []
    },
    "kernelspec": {
      "name": "python3",
      "display_name": "Python 3"
    },
    "language_info": {
      "name": "python"
    }
  },
  "cells": [
    {
      "cell_type": "code",
      "execution_count": null,
      "metadata": {
        "id": "dNpv7hF4butn"
      },
      "outputs": [],
      "source": [
        "from google.colab import drive\n",
        "drive.mount('/content/drive')"
      ]
    },
    {
      "cell_type": "code",
      "source": [
        "import numpy as np\n",
        "import pandas as pd\n",
        "import matplotlib.pyplot as plt\n",
        "import seaborn as sns\n",
        "from sklearn.cluster import KMeans\n",
        "from sklearn.model_selection import train_test_split"
      ],
      "metadata": {
        "id": "jHTjqEbIb55x"
      },
      "execution_count": null,
      "outputs": []
    },
    {
      "cell_type": "markdown",
      "source": [
        "#Ans 1\n",
        "\n"
      ],
      "metadata": {
        "id": "wrsuydt-sxZK"
      }
    },
    {
      "cell_type": "code",
      "execution_count": null,
      "metadata": {
        "id": "dba42b6a"
      },
      "outputs": [],
      "source": [
        "from sklearn.tree import DecisionTreeClassifier\n",
        "from sklearn.ensemble import RandomForestClassifier\n",
        "from sklearn.neural_network import MLPClassifier"
      ]
    },
    {
      "cell_type": "code",
      "execution_count": null,
      "metadata": {
        "id": "fd746b33"
      },
      "outputs": [],
      "source": [
        "Insurance_Data= pd.read_csv('/content/drive/MyDrive/Data Science/Data Mining/Project/insurance_part2_data.csv')"
      ]
    },
    {
      "cell_type": "code",
      "execution_count": null,
      "metadata": {
        "colab": {
          "base_uri": "https://localhost:8080/",
          "height": 206
        },
        "id": "74f70780",
        "outputId": "47befa61-0999-4f4f-fc03-ef2a93950a5c"
      },
      "outputs": [
        {
          "output_type": "execute_result",
          "data": {
            "text/plain": [
              "   Age Agency_Code           Type Claimed  Commision Channel  Duration  Sales  \\\n",
              "0   48         C2B       Airlines      No       0.70  Online         7   2.51   \n",
              "1   36         EPX  Travel Agency      No       0.00  Online        34  20.00   \n",
              "2   39         CWT  Travel Agency      No       5.94  Online         3   9.90   \n",
              "3   36         EPX  Travel Agency      No       0.00  Online         4  26.00   \n",
              "4   33         JZI       Airlines      No       6.30  Online        53  18.00   \n",
              "\n",
              "        Product Name Destination  \n",
              "0    Customised Plan        ASIA  \n",
              "1    Customised Plan        ASIA  \n",
              "2    Customised Plan    Americas  \n",
              "3  Cancellation Plan        ASIA  \n",
              "4        Bronze Plan        ASIA  "
            ],
            "text/html": [
              "\n",
              "  <div id=\"df-10e3b482-5043-4635-9a7f-72d516c1b862\">\n",
              "    <div class=\"colab-df-container\">\n",
              "      <div>\n",
              "<style scoped>\n",
              "    .dataframe tbody tr th:only-of-type {\n",
              "        vertical-align: middle;\n",
              "    }\n",
              "\n",
              "    .dataframe tbody tr th {\n",
              "        vertical-align: top;\n",
              "    }\n",
              "\n",
              "    .dataframe thead th {\n",
              "        text-align: right;\n",
              "    }\n",
              "</style>\n",
              "<table border=\"1\" class=\"dataframe\">\n",
              "  <thead>\n",
              "    <tr style=\"text-align: right;\">\n",
              "      <th></th>\n",
              "      <th>Age</th>\n",
              "      <th>Agency_Code</th>\n",
              "      <th>Type</th>\n",
              "      <th>Claimed</th>\n",
              "      <th>Commision</th>\n",
              "      <th>Channel</th>\n",
              "      <th>Duration</th>\n",
              "      <th>Sales</th>\n",
              "      <th>Product Name</th>\n",
              "      <th>Destination</th>\n",
              "    </tr>\n",
              "  </thead>\n",
              "  <tbody>\n",
              "    <tr>\n",
              "      <th>0</th>\n",
              "      <td>48</td>\n",
              "      <td>C2B</td>\n",
              "      <td>Airlines</td>\n",
              "      <td>No</td>\n",
              "      <td>0.70</td>\n",
              "      <td>Online</td>\n",
              "      <td>7</td>\n",
              "      <td>2.51</td>\n",
              "      <td>Customised Plan</td>\n",
              "      <td>ASIA</td>\n",
              "    </tr>\n",
              "    <tr>\n",
              "      <th>1</th>\n",
              "      <td>36</td>\n",
              "      <td>EPX</td>\n",
              "      <td>Travel Agency</td>\n",
              "      <td>No</td>\n",
              "      <td>0.00</td>\n",
              "      <td>Online</td>\n",
              "      <td>34</td>\n",
              "      <td>20.00</td>\n",
              "      <td>Customised Plan</td>\n",
              "      <td>ASIA</td>\n",
              "    </tr>\n",
              "    <tr>\n",
              "      <th>2</th>\n",
              "      <td>39</td>\n",
              "      <td>CWT</td>\n",
              "      <td>Travel Agency</td>\n",
              "      <td>No</td>\n",
              "      <td>5.94</td>\n",
              "      <td>Online</td>\n",
              "      <td>3</td>\n",
              "      <td>9.90</td>\n",
              "      <td>Customised Plan</td>\n",
              "      <td>Americas</td>\n",
              "    </tr>\n",
              "    <tr>\n",
              "      <th>3</th>\n",
              "      <td>36</td>\n",
              "      <td>EPX</td>\n",
              "      <td>Travel Agency</td>\n",
              "      <td>No</td>\n",
              "      <td>0.00</td>\n",
              "      <td>Online</td>\n",
              "      <td>4</td>\n",
              "      <td>26.00</td>\n",
              "      <td>Cancellation Plan</td>\n",
              "      <td>ASIA</td>\n",
              "    </tr>\n",
              "    <tr>\n",
              "      <th>4</th>\n",
              "      <td>33</td>\n",
              "      <td>JZI</td>\n",
              "      <td>Airlines</td>\n",
              "      <td>No</td>\n",
              "      <td>6.30</td>\n",
              "      <td>Online</td>\n",
              "      <td>53</td>\n",
              "      <td>18.00</td>\n",
              "      <td>Bronze Plan</td>\n",
              "      <td>ASIA</td>\n",
              "    </tr>\n",
              "  </tbody>\n",
              "</table>\n",
              "</div>\n",
              "      <button class=\"colab-df-convert\" onclick=\"convertToInteractive('df-10e3b482-5043-4635-9a7f-72d516c1b862')\"\n",
              "              title=\"Convert this dataframe to an interactive table.\"\n",
              "              style=\"display:none;\">\n",
              "        \n",
              "  <svg xmlns=\"http://www.w3.org/2000/svg\" height=\"24px\"viewBox=\"0 0 24 24\"\n",
              "       width=\"24px\">\n",
              "    <path d=\"M0 0h24v24H0V0z\" fill=\"none\"/>\n",
              "    <path d=\"M18.56 5.44l.94 2.06.94-2.06 2.06-.94-2.06-.94-.94-2.06-.94 2.06-2.06.94zm-11 1L8.5 8.5l.94-2.06 2.06-.94-2.06-.94L8.5 2.5l-.94 2.06-2.06.94zm10 10l.94 2.06.94-2.06 2.06-.94-2.06-.94-.94-2.06-.94 2.06-2.06.94z\"/><path d=\"M17.41 7.96l-1.37-1.37c-.4-.4-.92-.59-1.43-.59-.52 0-1.04.2-1.43.59L10.3 9.45l-7.72 7.72c-.78.78-.78 2.05 0 2.83L4 21.41c.39.39.9.59 1.41.59.51 0 1.02-.2 1.41-.59l7.78-7.78 2.81-2.81c.8-.78.8-2.07 0-2.86zM5.41 20L4 18.59l7.72-7.72 1.47 1.35L5.41 20z\"/>\n",
              "  </svg>\n",
              "      </button>\n",
              "      \n",
              "  <style>\n",
              "    .colab-df-container {\n",
              "      display:flex;\n",
              "      flex-wrap:wrap;\n",
              "      gap: 12px;\n",
              "    }\n",
              "\n",
              "    .colab-df-convert {\n",
              "      background-color: #E8F0FE;\n",
              "      border: none;\n",
              "      border-radius: 50%;\n",
              "      cursor: pointer;\n",
              "      display: none;\n",
              "      fill: #1967D2;\n",
              "      height: 32px;\n",
              "      padding: 0 0 0 0;\n",
              "      width: 32px;\n",
              "    }\n",
              "\n",
              "    .colab-df-convert:hover {\n",
              "      background-color: #E2EBFA;\n",
              "      box-shadow: 0px 1px 2px rgba(60, 64, 67, 0.3), 0px 1px 3px 1px rgba(60, 64, 67, 0.15);\n",
              "      fill: #174EA6;\n",
              "    }\n",
              "\n",
              "    [theme=dark] .colab-df-convert {\n",
              "      background-color: #3B4455;\n",
              "      fill: #D2E3FC;\n",
              "    }\n",
              "\n",
              "    [theme=dark] .colab-df-convert:hover {\n",
              "      background-color: #434B5C;\n",
              "      box-shadow: 0px 1px 3px 1px rgba(0, 0, 0, 0.15);\n",
              "      filter: drop-shadow(0px 1px 2px rgba(0, 0, 0, 0.3));\n",
              "      fill: #FFFFFF;\n",
              "    }\n",
              "  </style>\n",
              "\n",
              "      <script>\n",
              "        const buttonEl =\n",
              "          document.querySelector('#df-10e3b482-5043-4635-9a7f-72d516c1b862 button.colab-df-convert');\n",
              "        buttonEl.style.display =\n",
              "          google.colab.kernel.accessAllowed ? 'block' : 'none';\n",
              "\n",
              "        async function convertToInteractive(key) {\n",
              "          const element = document.querySelector('#df-10e3b482-5043-4635-9a7f-72d516c1b862');\n",
              "          const dataTable =\n",
              "            await google.colab.kernel.invokeFunction('convertToInteractive',\n",
              "                                                     [key], {});\n",
              "          if (!dataTable) return;\n",
              "\n",
              "          const docLinkHtml = 'Like what you see? Visit the ' +\n",
              "            '<a target=\"_blank\" href=https://colab.research.google.com/notebooks/data_table.ipynb>data table notebook</a>'\n",
              "            + ' to learn more about interactive tables.';\n",
              "          element.innerHTML = '';\n",
              "          dataTable['output_type'] = 'display_data';\n",
              "          await google.colab.output.renderOutput(dataTable, element);\n",
              "          const docLink = document.createElement('div');\n",
              "          docLink.innerHTML = docLinkHtml;\n",
              "          element.appendChild(docLink);\n",
              "        }\n",
              "      </script>\n",
              "    </div>\n",
              "  </div>\n",
              "  "
            ]
          },
          "metadata": {},
          "execution_count": 48
        }
      ],
      "source": [
        "Insurance_Data.head()"
      ]
    },
    {
      "cell_type": "code",
      "execution_count": null,
      "metadata": {
        "colab": {
          "base_uri": "https://localhost:8080/",
          "height": 300
        },
        "id": "e21495e2",
        "outputId": "df77b53b-4857-4879-f549-12734fe8f8c6"
      },
      "outputs": [
        {
          "output_type": "execute_result",
          "data": {
            "text/plain": [
              "               Age    Commision     Duration        Sales\n",
              "count  3000.000000  3000.000000  3000.000000  3000.000000\n",
              "mean     38.091000    14.529203    70.001333    60.249913\n",
              "std      10.463518    25.481455   134.053313    70.733954\n",
              "min       8.000000     0.000000    -1.000000     0.000000\n",
              "25%      32.000000     0.000000    11.000000    20.000000\n",
              "50%      36.000000     4.630000    26.500000    33.000000\n",
              "75%      42.000000    17.235000    63.000000    69.000000\n",
              "max      84.000000   210.210000  4580.000000   539.000000"
            ],
            "text/html": [
              "\n",
              "  <div id=\"df-e82a96d1-b149-4066-8287-b0779adf6268\">\n",
              "    <div class=\"colab-df-container\">\n",
              "      <div>\n",
              "<style scoped>\n",
              "    .dataframe tbody tr th:only-of-type {\n",
              "        vertical-align: middle;\n",
              "    }\n",
              "\n",
              "    .dataframe tbody tr th {\n",
              "        vertical-align: top;\n",
              "    }\n",
              "\n",
              "    .dataframe thead th {\n",
              "        text-align: right;\n",
              "    }\n",
              "</style>\n",
              "<table border=\"1\" class=\"dataframe\">\n",
              "  <thead>\n",
              "    <tr style=\"text-align: right;\">\n",
              "      <th></th>\n",
              "      <th>Age</th>\n",
              "      <th>Commision</th>\n",
              "      <th>Duration</th>\n",
              "      <th>Sales</th>\n",
              "    </tr>\n",
              "  </thead>\n",
              "  <tbody>\n",
              "    <tr>\n",
              "      <th>count</th>\n",
              "      <td>3000.000000</td>\n",
              "      <td>3000.000000</td>\n",
              "      <td>3000.000000</td>\n",
              "      <td>3000.000000</td>\n",
              "    </tr>\n",
              "    <tr>\n",
              "      <th>mean</th>\n",
              "      <td>38.091000</td>\n",
              "      <td>14.529203</td>\n",
              "      <td>70.001333</td>\n",
              "      <td>60.249913</td>\n",
              "    </tr>\n",
              "    <tr>\n",
              "      <th>std</th>\n",
              "      <td>10.463518</td>\n",
              "      <td>25.481455</td>\n",
              "      <td>134.053313</td>\n",
              "      <td>70.733954</td>\n",
              "    </tr>\n",
              "    <tr>\n",
              "      <th>min</th>\n",
              "      <td>8.000000</td>\n",
              "      <td>0.000000</td>\n",
              "      <td>-1.000000</td>\n",
              "      <td>0.000000</td>\n",
              "    </tr>\n",
              "    <tr>\n",
              "      <th>25%</th>\n",
              "      <td>32.000000</td>\n",
              "      <td>0.000000</td>\n",
              "      <td>11.000000</td>\n",
              "      <td>20.000000</td>\n",
              "    </tr>\n",
              "    <tr>\n",
              "      <th>50%</th>\n",
              "      <td>36.000000</td>\n",
              "      <td>4.630000</td>\n",
              "      <td>26.500000</td>\n",
              "      <td>33.000000</td>\n",
              "    </tr>\n",
              "    <tr>\n",
              "      <th>75%</th>\n",
              "      <td>42.000000</td>\n",
              "      <td>17.235000</td>\n",
              "      <td>63.000000</td>\n",
              "      <td>69.000000</td>\n",
              "    </tr>\n",
              "    <tr>\n",
              "      <th>max</th>\n",
              "      <td>84.000000</td>\n",
              "      <td>210.210000</td>\n",
              "      <td>4580.000000</td>\n",
              "      <td>539.000000</td>\n",
              "    </tr>\n",
              "  </tbody>\n",
              "</table>\n",
              "</div>\n",
              "      <button class=\"colab-df-convert\" onclick=\"convertToInteractive('df-e82a96d1-b149-4066-8287-b0779adf6268')\"\n",
              "              title=\"Convert this dataframe to an interactive table.\"\n",
              "              style=\"display:none;\">\n",
              "        \n",
              "  <svg xmlns=\"http://www.w3.org/2000/svg\" height=\"24px\"viewBox=\"0 0 24 24\"\n",
              "       width=\"24px\">\n",
              "    <path d=\"M0 0h24v24H0V0z\" fill=\"none\"/>\n",
              "    <path d=\"M18.56 5.44l.94 2.06.94-2.06 2.06-.94-2.06-.94-.94-2.06-.94 2.06-2.06.94zm-11 1L8.5 8.5l.94-2.06 2.06-.94-2.06-.94L8.5 2.5l-.94 2.06-2.06.94zm10 10l.94 2.06.94-2.06 2.06-.94-2.06-.94-.94-2.06-.94 2.06-2.06.94z\"/><path d=\"M17.41 7.96l-1.37-1.37c-.4-.4-.92-.59-1.43-.59-.52 0-1.04.2-1.43.59L10.3 9.45l-7.72 7.72c-.78.78-.78 2.05 0 2.83L4 21.41c.39.39.9.59 1.41.59.51 0 1.02-.2 1.41-.59l7.78-7.78 2.81-2.81c.8-.78.8-2.07 0-2.86zM5.41 20L4 18.59l7.72-7.72 1.47 1.35L5.41 20z\"/>\n",
              "  </svg>\n",
              "      </button>\n",
              "      \n",
              "  <style>\n",
              "    .colab-df-container {\n",
              "      display:flex;\n",
              "      flex-wrap:wrap;\n",
              "      gap: 12px;\n",
              "    }\n",
              "\n",
              "    .colab-df-convert {\n",
              "      background-color: #E8F0FE;\n",
              "      border: none;\n",
              "      border-radius: 50%;\n",
              "      cursor: pointer;\n",
              "      display: none;\n",
              "      fill: #1967D2;\n",
              "      height: 32px;\n",
              "      padding: 0 0 0 0;\n",
              "      width: 32px;\n",
              "    }\n",
              "\n",
              "    .colab-df-convert:hover {\n",
              "      background-color: #E2EBFA;\n",
              "      box-shadow: 0px 1px 2px rgba(60, 64, 67, 0.3), 0px 1px 3px 1px rgba(60, 64, 67, 0.15);\n",
              "      fill: #174EA6;\n",
              "    }\n",
              "\n",
              "    [theme=dark] .colab-df-convert {\n",
              "      background-color: #3B4455;\n",
              "      fill: #D2E3FC;\n",
              "    }\n",
              "\n",
              "    [theme=dark] .colab-df-convert:hover {\n",
              "      background-color: #434B5C;\n",
              "      box-shadow: 0px 1px 3px 1px rgba(0, 0, 0, 0.15);\n",
              "      filter: drop-shadow(0px 1px 2px rgba(0, 0, 0, 0.3));\n",
              "      fill: #FFFFFF;\n",
              "    }\n",
              "  </style>\n",
              "\n",
              "      <script>\n",
              "        const buttonEl =\n",
              "          document.querySelector('#df-e82a96d1-b149-4066-8287-b0779adf6268 button.colab-df-convert');\n",
              "        buttonEl.style.display =\n",
              "          google.colab.kernel.accessAllowed ? 'block' : 'none';\n",
              "\n",
              "        async function convertToInteractive(key) {\n",
              "          const element = document.querySelector('#df-e82a96d1-b149-4066-8287-b0779adf6268');\n",
              "          const dataTable =\n",
              "            await google.colab.kernel.invokeFunction('convertToInteractive',\n",
              "                                                     [key], {});\n",
              "          if (!dataTable) return;\n",
              "\n",
              "          const docLinkHtml = 'Like what you see? Visit the ' +\n",
              "            '<a target=\"_blank\" href=https://colab.research.google.com/notebooks/data_table.ipynb>data table notebook</a>'\n",
              "            + ' to learn more about interactive tables.';\n",
              "          element.innerHTML = '';\n",
              "          dataTable['output_type'] = 'display_data';\n",
              "          await google.colab.output.renderOutput(dataTable, element);\n",
              "          const docLink = document.createElement('div');\n",
              "          docLink.innerHTML = docLinkHtml;\n",
              "          element.appendChild(docLink);\n",
              "        }\n",
              "      </script>\n",
              "    </div>\n",
              "  </div>\n",
              "  "
            ]
          },
          "metadata": {},
          "execution_count": 49
        }
      ],
      "source": [
        "Insurance_Data.describe()"
      ]
    },
    {
      "cell_type": "code",
      "execution_count": null,
      "metadata": {
        "colab": {
          "base_uri": "https://localhost:8080/"
        },
        "id": "7421262c",
        "outputId": "974ea5a2-fc41-404d-8b00-b6b636bd689d"
      },
      "outputs": [
        {
          "output_type": "stream",
          "name": "stdout",
          "text": [
            "<class 'pandas.core.frame.DataFrame'>\n",
            "RangeIndex: 3000 entries, 0 to 2999\n",
            "Data columns (total 10 columns):\n",
            " #   Column        Non-Null Count  Dtype  \n",
            "---  ------        --------------  -----  \n",
            " 0   Age           3000 non-null   int64  \n",
            " 1   Agency_Code   3000 non-null   object \n",
            " 2   Type          3000 non-null   object \n",
            " 3   Claimed       3000 non-null   object \n",
            " 4   Commision     3000 non-null   float64\n",
            " 5   Channel       3000 non-null   object \n",
            " 6   Duration      3000 non-null   int64  \n",
            " 7   Sales         3000 non-null   float64\n",
            " 8   Product Name  3000 non-null   object \n",
            " 9   Destination   3000 non-null   object \n",
            "dtypes: float64(2), int64(2), object(6)\n",
            "memory usage: 234.5+ KB\n"
          ]
        }
      ],
      "source": [
        "Insurance_Data.info()"
      ]
    },
    {
      "cell_type": "code",
      "execution_count": null,
      "metadata": {
        "colab": {
          "base_uri": "https://localhost:8080/"
        },
        "id": "401f1acb",
        "outputId": "0a3cfdd3-6137-4a9f-8fc8-b119ae62da02"
      },
      "outputs": [
        {
          "output_type": "execute_result",
          "data": {
            "text/plain": [
              "array([   7,   34,    3,    4,   53,    8,   30,   16,   19,   42,  368,\n",
              "         77,   23,   21,  366,    2,   40,   33,   66,   71,   25,   29,\n",
              "         31,   36,   70,   11,   27,   32,   20,   90,   17,   14,    5,\n",
              "         75,   35,   24,   22,  364,   13,   15,    6,   37,  365,   38,\n",
              "         81,   96,   28,   44,   57,   51,   26,  367,   12,    9,  110,\n",
              "         58,   65,  100,  186,   39,   48,   46,  266,   72,   61,   43,\n",
              "         18,  146,   10,   59,   93,   56,   50,   99,  135,  382,   47,\n",
              "         74,   64,  379,  152,  112,  380,  189,   60,   41,   89,   95,\n",
              "        383,   62,  374,   55,  401,  145,   80,   83,    1,   52,  114,\n",
              "         63,   49,   69,   67,  109,  105,   54,   98,  259,  239,  102,\n",
              "        166,  165,  107,  385,   68,   73,  144,  126,  116,   45,  113,\n",
              "        111,  378,   82,  187,  394,  147,   88,  175,   87,  402,  393,\n",
              "        224,  384,  244,  148,  209,  132,  377,  235,   79,  101,  158,\n",
              "        120,  376,  125,  386,  162,  375,   76,  164,   78,  428,  129,\n",
              "        396,  392,  121,  203,  185,  369,   91,  119,  398,  138,  372,\n",
              "        289,  216,  123,  370,  280,  115,   85,  131,  103,  198,   84,\n",
              "        281,  204,  234,   86,  391,  167,  156,  202,  128,  171,  118,\n",
              "        160,  180,  390,  173,   92,  191,  229,   97,  159,  431,  208,\n",
              "        106,  397,   94,  130,   -1,  172,  388,  108,  215,  373,  141,\n",
              "        395,    0,  232,  124,  179,  177,  122,  195,  371,  334,  273,\n",
              "        153,  104,  413,  201,  217,  168,  387,  155,  278,  434,  212,\n",
              "        421,  226,  163,  309,  149,  417,  197,  142,  222,  154,  218,\n",
              "        389,  276,  139,  381,  190,  303,  134,  137,  419,  127, 4580,\n",
              "        184,  223,  466,  416])"
            ]
          },
          "metadata": {},
          "execution_count": 51
        }
      ],
      "source": [
        "Insurance_Data['Duration'].unique()"
      ]
    },
    {
      "cell_type": "code",
      "execution_count": null,
      "metadata": {
        "id": "c4fda02f"
      },
      "outputs": [],
      "source": [
        "##There is a value present as -1 in Duration which is not possible, so I am replacing the value with the median value that is 26.5\n",
        "Insurance_Data['Duration'] = Insurance_Data['Duration'].replace(to_replace=-1,value=26.5)"
      ]
    },
    {
      "cell_type": "code",
      "execution_count": null,
      "metadata": {
        "colab": {
          "base_uri": "https://localhost:8080/"
        },
        "id": "dc12227a",
        "outputId": "7bbecf87-e6a5-4fba-c7b0-5bffc89440da"
      },
      "outputs": [
        {
          "output_type": "execute_result",
          "data": {
            "text/plain": [
              "count    3000.000000\n",
              "mean       70.010500\n",
              "std       134.049397\n",
              "min         0.000000\n",
              "25%        11.000000\n",
              "50%        26.750000\n",
              "75%        63.000000\n",
              "max      4580.000000\n",
              "Name: Duration, dtype: float64"
            ]
          },
          "metadata": {},
          "execution_count": 53
        }
      ],
      "source": [
        "Insurance_Data['Duration'].describe()"
      ]
    },
    {
      "cell_type": "code",
      "execution_count": null,
      "metadata": {
        "colab": {
          "base_uri": "https://localhost:8080/",
          "height": 442
        },
        "id": "9f44fbec",
        "outputId": "f2444d2e-532b-4da2-b167-db3c1a219542"
      },
      "outputs": [
        {
          "output_type": "stream",
          "name": "stdout",
          "text": [
            "Number of duplicate rows = 139\n"
          ]
        },
        {
          "output_type": "execute_result",
          "data": {
            "text/plain": [
              "      Age Agency_Code           Type Claimed  Commision Channel  Duration  \\\n",
              "63     30         C2B       Airlines     Yes       15.0  Online      27.0   \n",
              "329    36         EPX  Travel Agency      No        0.0  Online       5.0   \n",
              "407    36         EPX  Travel Agency      No        0.0  Online      11.0   \n",
              "411    35         EPX  Travel Agency      No        0.0  Online       2.0   \n",
              "422    36         EPX  Travel Agency      No        0.0  Online       5.0   \n",
              "...   ...         ...            ...     ...        ...     ...       ...   \n",
              "2940   36         EPX  Travel Agency      No        0.0  Online       8.0   \n",
              "2947   36         EPX  Travel Agency      No        0.0  Online      10.0   \n",
              "2952   36         EPX  Travel Agency      No        0.0  Online       2.0   \n",
              "2962   36         EPX  Travel Agency      No        0.0  Online       4.0   \n",
              "2984   36         EPX  Travel Agency      No        0.0  Online       1.0   \n",
              "\n",
              "      Sales       Product Name Destination  \n",
              "63     60.0        Bronze Plan        ASIA  \n",
              "329    20.0    Customised Plan        ASIA  \n",
              "407    19.0  Cancellation Plan        ASIA  \n",
              "411    20.0    Customised Plan        ASIA  \n",
              "422    20.0    Customised Plan        ASIA  \n",
              "...     ...                ...         ...  \n",
              "2940   10.0  Cancellation Plan        ASIA  \n",
              "2947   28.0    Customised Plan        ASIA  \n",
              "2952   10.0  Cancellation Plan        ASIA  \n",
              "2962   20.0    Customised Plan        ASIA  \n",
              "2984   20.0    Customised Plan        ASIA  \n",
              "\n",
              "[139 rows x 10 columns]"
            ],
            "text/html": [
              "\n",
              "  <div id=\"df-431d2e51-9203-402d-878e-f55ddf4068cc\">\n",
              "    <div class=\"colab-df-container\">\n",
              "      <div>\n",
              "<style scoped>\n",
              "    .dataframe tbody tr th:only-of-type {\n",
              "        vertical-align: middle;\n",
              "    }\n",
              "\n",
              "    .dataframe tbody tr th {\n",
              "        vertical-align: top;\n",
              "    }\n",
              "\n",
              "    .dataframe thead th {\n",
              "        text-align: right;\n",
              "    }\n",
              "</style>\n",
              "<table border=\"1\" class=\"dataframe\">\n",
              "  <thead>\n",
              "    <tr style=\"text-align: right;\">\n",
              "      <th></th>\n",
              "      <th>Age</th>\n",
              "      <th>Agency_Code</th>\n",
              "      <th>Type</th>\n",
              "      <th>Claimed</th>\n",
              "      <th>Commision</th>\n",
              "      <th>Channel</th>\n",
              "      <th>Duration</th>\n",
              "      <th>Sales</th>\n",
              "      <th>Product Name</th>\n",
              "      <th>Destination</th>\n",
              "    </tr>\n",
              "  </thead>\n",
              "  <tbody>\n",
              "    <tr>\n",
              "      <th>63</th>\n",
              "      <td>30</td>\n",
              "      <td>C2B</td>\n",
              "      <td>Airlines</td>\n",
              "      <td>Yes</td>\n",
              "      <td>15.0</td>\n",
              "      <td>Online</td>\n",
              "      <td>27.0</td>\n",
              "      <td>60.0</td>\n",
              "      <td>Bronze Plan</td>\n",
              "      <td>ASIA</td>\n",
              "    </tr>\n",
              "    <tr>\n",
              "      <th>329</th>\n",
              "      <td>36</td>\n",
              "      <td>EPX</td>\n",
              "      <td>Travel Agency</td>\n",
              "      <td>No</td>\n",
              "      <td>0.0</td>\n",
              "      <td>Online</td>\n",
              "      <td>5.0</td>\n",
              "      <td>20.0</td>\n",
              "      <td>Customised Plan</td>\n",
              "      <td>ASIA</td>\n",
              "    </tr>\n",
              "    <tr>\n",
              "      <th>407</th>\n",
              "      <td>36</td>\n",
              "      <td>EPX</td>\n",
              "      <td>Travel Agency</td>\n",
              "      <td>No</td>\n",
              "      <td>0.0</td>\n",
              "      <td>Online</td>\n",
              "      <td>11.0</td>\n",
              "      <td>19.0</td>\n",
              "      <td>Cancellation Plan</td>\n",
              "      <td>ASIA</td>\n",
              "    </tr>\n",
              "    <tr>\n",
              "      <th>411</th>\n",
              "      <td>35</td>\n",
              "      <td>EPX</td>\n",
              "      <td>Travel Agency</td>\n",
              "      <td>No</td>\n",
              "      <td>0.0</td>\n",
              "      <td>Online</td>\n",
              "      <td>2.0</td>\n",
              "      <td>20.0</td>\n",
              "      <td>Customised Plan</td>\n",
              "      <td>ASIA</td>\n",
              "    </tr>\n",
              "    <tr>\n",
              "      <th>422</th>\n",
              "      <td>36</td>\n",
              "      <td>EPX</td>\n",
              "      <td>Travel Agency</td>\n",
              "      <td>No</td>\n",
              "      <td>0.0</td>\n",
              "      <td>Online</td>\n",
              "      <td>5.0</td>\n",
              "      <td>20.0</td>\n",
              "      <td>Customised Plan</td>\n",
              "      <td>ASIA</td>\n",
              "    </tr>\n",
              "    <tr>\n",
              "      <th>...</th>\n",
              "      <td>...</td>\n",
              "      <td>...</td>\n",
              "      <td>...</td>\n",
              "      <td>...</td>\n",
              "      <td>...</td>\n",
              "      <td>...</td>\n",
              "      <td>...</td>\n",
              "      <td>...</td>\n",
              "      <td>...</td>\n",
              "      <td>...</td>\n",
              "    </tr>\n",
              "    <tr>\n",
              "      <th>2940</th>\n",
              "      <td>36</td>\n",
              "      <td>EPX</td>\n",
              "      <td>Travel Agency</td>\n",
              "      <td>No</td>\n",
              "      <td>0.0</td>\n",
              "      <td>Online</td>\n",
              "      <td>8.0</td>\n",
              "      <td>10.0</td>\n",
              "      <td>Cancellation Plan</td>\n",
              "      <td>ASIA</td>\n",
              "    </tr>\n",
              "    <tr>\n",
              "      <th>2947</th>\n",
              "      <td>36</td>\n",
              "      <td>EPX</td>\n",
              "      <td>Travel Agency</td>\n",
              "      <td>No</td>\n",
              "      <td>0.0</td>\n",
              "      <td>Online</td>\n",
              "      <td>10.0</td>\n",
              "      <td>28.0</td>\n",
              "      <td>Customised Plan</td>\n",
              "      <td>ASIA</td>\n",
              "    </tr>\n",
              "    <tr>\n",
              "      <th>2952</th>\n",
              "      <td>36</td>\n",
              "      <td>EPX</td>\n",
              "      <td>Travel Agency</td>\n",
              "      <td>No</td>\n",
              "      <td>0.0</td>\n",
              "      <td>Online</td>\n",
              "      <td>2.0</td>\n",
              "      <td>10.0</td>\n",
              "      <td>Cancellation Plan</td>\n",
              "      <td>ASIA</td>\n",
              "    </tr>\n",
              "    <tr>\n",
              "      <th>2962</th>\n",
              "      <td>36</td>\n",
              "      <td>EPX</td>\n",
              "      <td>Travel Agency</td>\n",
              "      <td>No</td>\n",
              "      <td>0.0</td>\n",
              "      <td>Online</td>\n",
              "      <td>4.0</td>\n",
              "      <td>20.0</td>\n",
              "      <td>Customised Plan</td>\n",
              "      <td>ASIA</td>\n",
              "    </tr>\n",
              "    <tr>\n",
              "      <th>2984</th>\n",
              "      <td>36</td>\n",
              "      <td>EPX</td>\n",
              "      <td>Travel Agency</td>\n",
              "      <td>No</td>\n",
              "      <td>0.0</td>\n",
              "      <td>Online</td>\n",
              "      <td>1.0</td>\n",
              "      <td>20.0</td>\n",
              "      <td>Customised Plan</td>\n",
              "      <td>ASIA</td>\n",
              "    </tr>\n",
              "  </tbody>\n",
              "</table>\n",
              "<p>139 rows × 10 columns</p>\n",
              "</div>\n",
              "      <button class=\"colab-df-convert\" onclick=\"convertToInteractive('df-431d2e51-9203-402d-878e-f55ddf4068cc')\"\n",
              "              title=\"Convert this dataframe to an interactive table.\"\n",
              "              style=\"display:none;\">\n",
              "        \n",
              "  <svg xmlns=\"http://www.w3.org/2000/svg\" height=\"24px\"viewBox=\"0 0 24 24\"\n",
              "       width=\"24px\">\n",
              "    <path d=\"M0 0h24v24H0V0z\" fill=\"none\"/>\n",
              "    <path d=\"M18.56 5.44l.94 2.06.94-2.06 2.06-.94-2.06-.94-.94-2.06-.94 2.06-2.06.94zm-11 1L8.5 8.5l.94-2.06 2.06-.94-2.06-.94L8.5 2.5l-.94 2.06-2.06.94zm10 10l.94 2.06.94-2.06 2.06-.94-2.06-.94-.94-2.06-.94 2.06-2.06.94z\"/><path d=\"M17.41 7.96l-1.37-1.37c-.4-.4-.92-.59-1.43-.59-.52 0-1.04.2-1.43.59L10.3 9.45l-7.72 7.72c-.78.78-.78 2.05 0 2.83L4 21.41c.39.39.9.59 1.41.59.51 0 1.02-.2 1.41-.59l7.78-7.78 2.81-2.81c.8-.78.8-2.07 0-2.86zM5.41 20L4 18.59l7.72-7.72 1.47 1.35L5.41 20z\"/>\n",
              "  </svg>\n",
              "      </button>\n",
              "      \n",
              "  <style>\n",
              "    .colab-df-container {\n",
              "      display:flex;\n",
              "      flex-wrap:wrap;\n",
              "      gap: 12px;\n",
              "    }\n",
              "\n",
              "    .colab-df-convert {\n",
              "      background-color: #E8F0FE;\n",
              "      border: none;\n",
              "      border-radius: 50%;\n",
              "      cursor: pointer;\n",
              "      display: none;\n",
              "      fill: #1967D2;\n",
              "      height: 32px;\n",
              "      padding: 0 0 0 0;\n",
              "      width: 32px;\n",
              "    }\n",
              "\n",
              "    .colab-df-convert:hover {\n",
              "      background-color: #E2EBFA;\n",
              "      box-shadow: 0px 1px 2px rgba(60, 64, 67, 0.3), 0px 1px 3px 1px rgba(60, 64, 67, 0.15);\n",
              "      fill: #174EA6;\n",
              "    }\n",
              "\n",
              "    [theme=dark] .colab-df-convert {\n",
              "      background-color: #3B4455;\n",
              "      fill: #D2E3FC;\n",
              "    }\n",
              "\n",
              "    [theme=dark] .colab-df-convert:hover {\n",
              "      background-color: #434B5C;\n",
              "      box-shadow: 0px 1px 3px 1px rgba(0, 0, 0, 0.15);\n",
              "      filter: drop-shadow(0px 1px 2px rgba(0, 0, 0, 0.3));\n",
              "      fill: #FFFFFF;\n",
              "    }\n",
              "  </style>\n",
              "\n",
              "      <script>\n",
              "        const buttonEl =\n",
              "          document.querySelector('#df-431d2e51-9203-402d-878e-f55ddf4068cc button.colab-df-convert');\n",
              "        buttonEl.style.display =\n",
              "          google.colab.kernel.accessAllowed ? 'block' : 'none';\n",
              "\n",
              "        async function convertToInteractive(key) {\n",
              "          const element = document.querySelector('#df-431d2e51-9203-402d-878e-f55ddf4068cc');\n",
              "          const dataTable =\n",
              "            await google.colab.kernel.invokeFunction('convertToInteractive',\n",
              "                                                     [key], {});\n",
              "          if (!dataTable) return;\n",
              "\n",
              "          const docLinkHtml = 'Like what you see? Visit the ' +\n",
              "            '<a target=\"_blank\" href=https://colab.research.google.com/notebooks/data_table.ipynb>data table notebook</a>'\n",
              "            + ' to learn more about interactive tables.';\n",
              "          element.innerHTML = '';\n",
              "          dataTable['output_type'] = 'display_data';\n",
              "          await google.colab.output.renderOutput(dataTable, element);\n",
              "          const docLink = document.createElement('div');\n",
              "          docLink.innerHTML = docLinkHtml;\n",
              "          element.appendChild(docLink);\n",
              "        }\n",
              "      </script>\n",
              "    </div>\n",
              "  </div>\n",
              "  "
            ]
          },
          "metadata": {},
          "execution_count": 54
        }
      ],
      "source": [
        "dups = Insurance_Data.duplicated()\n",
        "print('Number of duplicate rows = %d' % (dups.sum()))\n",
        "\n",
        "Insurance_Data[dups]"
      ]
    },
    {
      "cell_type": "code",
      "execution_count": null,
      "metadata": {
        "id": "6af616fb"
      },
      "outputs": [],
      "source": [
        "Insurance_Data.drop_duplicates(inplace=True)"
      ]
    },
    {
      "cell_type": "code",
      "execution_count": null,
      "metadata": {
        "colab": {
          "base_uri": "https://localhost:8080/",
          "height": 67
        },
        "id": "08585ab9",
        "outputId": "b24dc060-347e-4556-9717-eced60a64f86"
      },
      "outputs": [
        {
          "output_type": "stream",
          "name": "stdout",
          "text": [
            "Number of duplicate rows = 0\n"
          ]
        },
        {
          "output_type": "execute_result",
          "data": {
            "text/plain": [
              "Empty DataFrame\n",
              "Columns: [Age, Agency_Code, Type, Claimed, Commision, Channel, Duration, Sales, Product Name, Destination]\n",
              "Index: []"
            ],
            "text/html": [
              "\n",
              "  <div id=\"df-fb791bf5-610a-465f-abd7-c22f0597fd61\">\n",
              "    <div class=\"colab-df-container\">\n",
              "      <div>\n",
              "<style scoped>\n",
              "    .dataframe tbody tr th:only-of-type {\n",
              "        vertical-align: middle;\n",
              "    }\n",
              "\n",
              "    .dataframe tbody tr th {\n",
              "        vertical-align: top;\n",
              "    }\n",
              "\n",
              "    .dataframe thead th {\n",
              "        text-align: right;\n",
              "    }\n",
              "</style>\n",
              "<table border=\"1\" class=\"dataframe\">\n",
              "  <thead>\n",
              "    <tr style=\"text-align: right;\">\n",
              "      <th></th>\n",
              "      <th>Age</th>\n",
              "      <th>Agency_Code</th>\n",
              "      <th>Type</th>\n",
              "      <th>Claimed</th>\n",
              "      <th>Commision</th>\n",
              "      <th>Channel</th>\n",
              "      <th>Duration</th>\n",
              "      <th>Sales</th>\n",
              "      <th>Product Name</th>\n",
              "      <th>Destination</th>\n",
              "    </tr>\n",
              "  </thead>\n",
              "  <tbody>\n",
              "  </tbody>\n",
              "</table>\n",
              "</div>\n",
              "      <button class=\"colab-df-convert\" onclick=\"convertToInteractive('df-fb791bf5-610a-465f-abd7-c22f0597fd61')\"\n",
              "              title=\"Convert this dataframe to an interactive table.\"\n",
              "              style=\"display:none;\">\n",
              "        \n",
              "  <svg xmlns=\"http://www.w3.org/2000/svg\" height=\"24px\"viewBox=\"0 0 24 24\"\n",
              "       width=\"24px\">\n",
              "    <path d=\"M0 0h24v24H0V0z\" fill=\"none\"/>\n",
              "    <path d=\"M18.56 5.44l.94 2.06.94-2.06 2.06-.94-2.06-.94-.94-2.06-.94 2.06-2.06.94zm-11 1L8.5 8.5l.94-2.06 2.06-.94-2.06-.94L8.5 2.5l-.94 2.06-2.06.94zm10 10l.94 2.06.94-2.06 2.06-.94-2.06-.94-.94-2.06-.94 2.06-2.06.94z\"/><path d=\"M17.41 7.96l-1.37-1.37c-.4-.4-.92-.59-1.43-.59-.52 0-1.04.2-1.43.59L10.3 9.45l-7.72 7.72c-.78.78-.78 2.05 0 2.83L4 21.41c.39.39.9.59 1.41.59.51 0 1.02-.2 1.41-.59l7.78-7.78 2.81-2.81c.8-.78.8-2.07 0-2.86zM5.41 20L4 18.59l7.72-7.72 1.47 1.35L5.41 20z\"/>\n",
              "  </svg>\n",
              "      </button>\n",
              "      \n",
              "  <style>\n",
              "    .colab-df-container {\n",
              "      display:flex;\n",
              "      flex-wrap:wrap;\n",
              "      gap: 12px;\n",
              "    }\n",
              "\n",
              "    .colab-df-convert {\n",
              "      background-color: #E8F0FE;\n",
              "      border: none;\n",
              "      border-radius: 50%;\n",
              "      cursor: pointer;\n",
              "      display: none;\n",
              "      fill: #1967D2;\n",
              "      height: 32px;\n",
              "      padding: 0 0 0 0;\n",
              "      width: 32px;\n",
              "    }\n",
              "\n",
              "    .colab-df-convert:hover {\n",
              "      background-color: #E2EBFA;\n",
              "      box-shadow: 0px 1px 2px rgba(60, 64, 67, 0.3), 0px 1px 3px 1px rgba(60, 64, 67, 0.15);\n",
              "      fill: #174EA6;\n",
              "    }\n",
              "\n",
              "    [theme=dark] .colab-df-convert {\n",
              "      background-color: #3B4455;\n",
              "      fill: #D2E3FC;\n",
              "    }\n",
              "\n",
              "    [theme=dark] .colab-df-convert:hover {\n",
              "      background-color: #434B5C;\n",
              "      box-shadow: 0px 1px 3px 1px rgba(0, 0, 0, 0.15);\n",
              "      filter: drop-shadow(0px 1px 2px rgba(0, 0, 0, 0.3));\n",
              "      fill: #FFFFFF;\n",
              "    }\n",
              "  </style>\n",
              "\n",
              "      <script>\n",
              "        const buttonEl =\n",
              "          document.querySelector('#df-fb791bf5-610a-465f-abd7-c22f0597fd61 button.colab-df-convert');\n",
              "        buttonEl.style.display =\n",
              "          google.colab.kernel.accessAllowed ? 'block' : 'none';\n",
              "\n",
              "        async function convertToInteractive(key) {\n",
              "          const element = document.querySelector('#df-fb791bf5-610a-465f-abd7-c22f0597fd61');\n",
              "          const dataTable =\n",
              "            await google.colab.kernel.invokeFunction('convertToInteractive',\n",
              "                                                     [key], {});\n",
              "          if (!dataTable) return;\n",
              "\n",
              "          const docLinkHtml = 'Like what you see? Visit the ' +\n",
              "            '<a target=\"_blank\" href=https://colab.research.google.com/notebooks/data_table.ipynb>data table notebook</a>'\n",
              "            + ' to learn more about interactive tables.';\n",
              "          element.innerHTML = '';\n",
              "          dataTable['output_type'] = 'display_data';\n",
              "          await google.colab.output.renderOutput(dataTable, element);\n",
              "          const docLink = document.createElement('div');\n",
              "          docLink.innerHTML = docLinkHtml;\n",
              "          element.appendChild(docLink);\n",
              "        }\n",
              "      </script>\n",
              "    </div>\n",
              "  </div>\n",
              "  "
            ]
          },
          "metadata": {},
          "execution_count": 56
        }
      ],
      "source": [
        "dups = Insurance_Data.duplicated()\n",
        "print('Number of duplicate rows = %d' % (dups.sum()))\n",
        "\n",
        "Insurance_Data[dups]"
      ]
    },
    {
      "cell_type": "code",
      "execution_count": null,
      "metadata": {
        "colab": {
          "base_uri": "https://localhost:8080/"
        },
        "id": "e5ee32e5",
        "outputId": "6d4ae087-a06f-4644-f9bf-6cb7448b1714"
      },
      "outputs": [
        {
          "output_type": "execute_result",
          "data": {
            "text/plain": [
              "Age             0\n",
              "Agency_Code     0\n",
              "Type            0\n",
              "Claimed         0\n",
              "Commision       0\n",
              "Channel         0\n",
              "Duration        0\n",
              "Sales           0\n",
              "Product Name    0\n",
              "Destination     0\n",
              "dtype: int64"
            ]
          },
          "metadata": {},
          "execution_count": 57
        }
      ],
      "source": [
        "Insurance_Data.isnull().sum()"
      ]
    },
    {
      "cell_type": "markdown",
      "source": [
        "##Ans 1.1"
      ],
      "metadata": {
        "id": "XmUwqqDeynHR"
      }
    },
    {
      "cell_type": "markdown",
      "source": [
        "###Univariate Analysis"
      ],
      "metadata": {
        "id": "u3F-71gXypGO"
      }
    },
    {
      "cell_type": "markdown",
      "source": [
        "###Numerical Variables"
      ],
      "metadata": {
        "id": "ooSepstlyrkm"
      }
    },
    {
      "cell_type": "code",
      "execution_count": null,
      "metadata": {
        "scrolled": true,
        "id": "037a2f77",
        "outputId": "892bc8bd-f49d-43fc-ebea-e3ec7cbae0ad",
        "colab": {
          "base_uri": "https://localhost:8080/",
          "height": 1000
        }
      },
      "outputs": [
        {
          "output_type": "display_data",
          "data": {
            "text/plain": [
              "<Figure size 1440x1440 with 8 Axes>"
            ],
            "image/png": "[encoded data removed]"
          },
          "metadata": {
            "needs_background": "light"
          }
        }
      ],
      "source": [
        "fig, axes = plt.subplots(nrows=4,ncols=2)\n",
        "fig.set_size_inches(20,20)\n",
        "sns.histplot(Insurance_Data['Age'], kde=True, ax=axes[0][0])\n",
        "sns.boxplot(x='Age', data=Insurance_Data, ax=axes[0][1])\n",
        "sns.histplot(Insurance_Data['Commision'] , kde=True, ax=axes[1][0])\n",
        "sns.boxplot(x='Commision', data=Insurance_Data , ax=axes[1][1])\n",
        "sns.histplot(Insurance_Data['Duration'] , kde=True, ax=axes[2][0])\n",
        "sns.boxplot(x='Duration', data=Insurance_Data , ax=axes[2][1])\n",
        "sns.histplot(Insurance_Data['Sales'], kde=True, ax=axes[3][0])\n",
        "sns.boxplot(x='Sales', data=Insurance_Data, ax=axes[3][1])\n",
        "plt.show()"
      ]
    },
    {
      "cell_type": "markdown",
      "source": [
        "###From the above analyis of numerical variable I can see that for\n",
        "\n",
        "*   Age - Data is positively skewed. The mean is little higher than median here. The mean is 38.09 and median value is 36 here. The age of insured people ranges from 8 to 84. Outliers are present.\n",
        "*   Commission- Data is positively skewed. The mean is much higher than median. Here the mean value is 14.53 and median is 4.63. The minimum commission received for tour insurance firm is 0 and the maximum commission received for tour insurance firm is 212.21. Outliers are present.\n",
        "*   Duration - The mean value is very much higher than median here. So the data distribution is positively skewed. The mean is 70.01 here and median is 26.75. The minimum duration of the tour is 0 and the maximum duration of the tour is 4580 days. Outliers are present.\n",
        "*   Sales - The mean is being higher than median so the data is positively skewed. The mean is 60.25 and the median is 33. Outliers are present. The minimum amount worth of sales per customer in procuring tour insurance policies is 0 and the maximum amount worth of sales per customer in procuring tour insurance policiesis  639. Outliers are present.\n",
        "\n",
        "\n",
        "\n"
      ],
      "metadata": {
        "id": "Ker3-nEwzDZF"
      }
    },
    {
      "cell_type": "markdown",
      "source": [
        "###Categorical Variables"
      ],
      "metadata": {
        "id": "G46zSZFd57WP"
      }
    },
    {
      "cell_type": "code",
      "execution_count": null,
      "metadata": {
        "colab": {
          "base_uri": "https://localhost:8080/",
          "height": 1000
        },
        "id": "818ef9b0",
        "outputId": "4c850fc7-6802-47c4-a97f-f7a02593fe9b"
      },
      "outputs": [
        {
          "output_type": "display_data",
          "data": {
            "text/plain": [
              "<Figure size 1440x1440 with 6 Axes>"
            ],
            "image/png": "[encoded data removed]"
          },
          "metadata": {
            "needs_background": "light"
          }
        }
      ],
      "source": [
        "fig, axes = plt.subplots(nrows=3,ncols=2)\n",
        "fig.set_size_inches(20,20)\n",
        "sns.countplot(x='Type', data=Insurance_Data, ax=axes[0][0])\n",
        "sns.countplot(x='Claimed', data=Insurance_Data, ax=axes[0][1])\n",
        "sns.countplot(x='Channel', data=Insurance_Data, ax=axes[1][0])\n",
        "sns.countplot(x='Product Name', data=Insurance_Data, ax=axes[1][1])\n",
        "sns.countplot(x='Destination', data=Insurance_Data, ax=axes[2][0])\n",
        "sns.countplot(x='Agency_Code', data=Insurance_Data, ax=axes[2][1])\n",
        "plt.show()"
      ]
    },
    {
      "cell_type": "markdown",
      "source": [
        "###From the visualization of categorical variables I can see that for\n",
        "\n",
        "*   Type - In the type of tour insurance firms two categories are present i.e., Airlines and Travel agencies. And the concentration of 'Travel agencies' is more than Airlines.\n",
        "*   Claimed - In the last few years the customers, who had not got the claimed status, are more in numbers than the clamied ones.\n",
        "*   Channel - Most of the insurances are distributed through online.\n",
        "*   Product Name - There are 5 different products as products for tour insurance. Customers mostly preferred the 'Customized Plan' and least preferred 'Gold Plan'.\n",
        "*   Destination - As the destination of the tour most of the customers preferred Asia followed by Americas and Europe.\n",
        "*   Agency_Code - There are 4 kinds of agency code. Customers have preferred the agency with code EPX the most and they have preferred the aganecy with code JZI the least.\n",
        "\n",
        "\n"
      ],
      "metadata": {
        "id": "_UksOv7h1t33"
      }
    },
    {
      "cell_type": "markdown",
      "source": [
        "###Bivariate Analysis"
      ],
      "metadata": {
        "id": "_uOMxmNK7lxW"
      }
    },
    {
      "cell_type": "code",
      "source": [
        "pd.crosstab(Insurance_Data['Type'], Insurance_Data['Channel'])"
      ],
      "metadata": {
        "colab": {
          "base_uri": "https://localhost:8080/",
          "height": 143
        },
        "id": "2zQteUXx7o-V",
        "outputId": "d0cb8082-fff7-4836-c10c-de29a75607d1"
      },
      "execution_count": null,
      "outputs": [
        {
          "output_type": "execute_result",
          "data": {
            "text/plain": [
              "Channel        Offline  Online\n",
              "Type                          \n",
              "Airlines             0    1152\n",
              "Travel Agency       46    1663"
            ],
            "text/html": [
              "\n",
              "  <div id=\"df-dd1da60a-f0e5-4716-90e0-d02430176271\">\n",
              "    <div class=\"colab-df-container\">\n",
              "      <div>\n",
              "<style scoped>\n",
              "    .dataframe tbody tr th:only-of-type {\n",
              "        vertical-align: middle;\n",
              "    }\n",
              "\n",
              "    .dataframe tbody tr th {\n",
              "        vertical-align: top;\n",
              "    }\n",
              "\n",
              "    .dataframe thead th {\n",
              "        text-align: right;\n",
              "    }\n",
              "</style>\n",
              "<table border=\"1\" class=\"dataframe\">\n",
              "  <thead>\n",
              "    <tr style=\"text-align: right;\">\n",
              "      <th>Channel</th>\n",
              "      <th>Offline</th>\n",
              "      <th>Online</th>\n",
              "    </tr>\n",
              "    <tr>\n",
              "      <th>Type</th>\n",
              "      <th></th>\n",
              "      <th></th>\n",
              "    </tr>\n",
              "  </thead>\n",
              "  <tbody>\n",
              "    <tr>\n",
              "      <th>Airlines</th>\n",
              "      <td>0</td>\n",
              "      <td>1152</td>\n",
              "    </tr>\n",
              "    <tr>\n",
              "      <th>Travel Agency</th>\n",
              "      <td>46</td>\n",
              "      <td>1663</td>\n",
              "    </tr>\n",
              "  </tbody>\n",
              "</table>\n",
              "</div>\n",
              "      <button class=\"colab-df-convert\" onclick=\"convertToInteractive('df-dd1da60a-f0e5-4716-90e0-d02430176271')\"\n",
              "              title=\"Convert this dataframe to an interactive table.\"\n",
              "              style=\"display:none;\">\n",
              "        \n",
              "  <svg xmlns=\"http://www.w3.org/2000/svg\" height=\"24px\"viewBox=\"0 0 24 24\"\n",
              "       width=\"24px\">\n",
              "    <path d=\"M0 0h24v24H0V0z\" fill=\"none\"/>\n",
              "    <path d=\"M18.56 5.44l.94 2.06.94-2.06 2.06-.94-2.06-.94-.94-2.06-.94 2.06-2.06.94zm-11 1L8.5 8.5l.94-2.06 2.06-.94-2.06-.94L8.5 2.5l-.94 2.06-2.06.94zm10 10l.94 2.06.94-2.06 2.06-.94-2.06-.94-.94-2.06-.94 2.06-2.06.94z\"/><path d=\"M17.41 7.96l-1.37-1.37c-.4-.4-.92-.59-1.43-.59-.52 0-1.04.2-1.43.59L10.3 9.45l-7.72 7.72c-.78.78-.78 2.05 0 2.83L4 21.41c.39.39.9.59 1.41.59.51 0 1.02-.2 1.41-.59l7.78-7.78 2.81-2.81c.8-.78.8-2.07 0-2.86zM5.41 20L4 18.59l7.72-7.72 1.47 1.35L5.41 20z\"/>\n",
              "  </svg>\n",
              "      </button>\n",
              "      \n",
              "  <style>\n",
              "    .colab-df-container {\n",
              "      display:flex;\n",
              "      flex-wrap:wrap;\n",
              "      gap: 12px;\n",
              "    }\n",
              "\n",
              "    .colab-df-convert {\n",
              "      background-color: #E8F0FE;\n",
              "      border: none;\n",
              "      border-radius: 50%;\n",
              "      cursor: pointer;\n",
              "      display: none;\n",
              "      fill: #1967D2;\n",
              "      height: 32px;\n",
              "      padding: 0 0 0 0;\n",
              "      width: 32px;\n",
              "    }\n",
              "\n",
              "    .colab-df-convert:hover {\n",
              "      background-color: #E2EBFA;\n",
              "      box-shadow: 0px 1px 2px rgba(60, 64, 67, 0.3), 0px 1px 3px 1px rgba(60, 64, 67, 0.15);\n",
              "      fill: #174EA6;\n",
              "    }\n",
              "\n",
              "    [theme=dark] .colab-df-convert {\n",
              "      background-color: #3B4455;\n",
              "      fill: #D2E3FC;\n",
              "    }\n",
              "\n",
              "    [theme=dark] .colab-df-convert:hover {\n",
              "      background-color: #434B5C;\n",
              "      box-shadow: 0px 1px 3px 1px rgba(0, 0, 0, 0.15);\n",
              "      filter: drop-shadow(0px 1px 2px rgba(0, 0, 0, 0.3));\n",
              "      fill: #FFFFFF;\n",
              "    }\n",
              "  </style>\n",
              "\n",
              "      <script>\n",
              "        const buttonEl =\n",
              "          document.querySelector('#df-dd1da60a-f0e5-4716-90e0-d02430176271 button.colab-df-convert');\n",
              "        buttonEl.style.display =\n",
              "          google.colab.kernel.accessAllowed ? 'block' : 'none';\n",
              "\n",
              "        async function convertToInteractive(key) {\n",
              "          const element = document.querySelector('#df-dd1da60a-f0e5-4716-90e0-d02430176271');\n",
              "          const dataTable =\n",
              "            await google.colab.kernel.invokeFunction('convertToInteractive',\n",
              "                                                     [key], {});\n",
              "          if (!dataTable) return;\n",
              "\n",
              "          const docLinkHtml = 'Like what you see? Visit the ' +\n",
              "            '<a target=\"_blank\" href=https://colab.research.google.com/notebooks/data_table.ipynb>data table notebook</a>'\n",
              "            + ' to learn more about interactive tables.';\n",
              "          element.innerHTML = '';\n",
              "          dataTable['output_type'] = 'display_data';\n",
              "          await google.colab.output.renderOutput(dataTable, element);\n",
              "          const docLink = document.createElement('div');\n",
              "          docLink.innerHTML = docLinkHtml;\n",
              "          element.appendChild(docLink);\n",
              "        }\n",
              "      </script>\n",
              "    </div>\n",
              "  </div>\n",
              "  "
            ]
          },
          "metadata": {},
          "execution_count": 60
        }
      ]
    },
    {
      "cell_type": "markdown",
      "source": [
        "###From the above analysis I can see that no customer has choosen Airlines in offline mode. All of the customers of Airlines preferred online. Customers who have chosen Travel Agency in offline mode is also very less in numbers compared to online."
      ],
      "metadata": {
        "id": "D2kJwCTS137B"
      }
    },
    {
      "cell_type": "code",
      "source": [
        "sns.countplot(x='Type', hue='Product Name', data=Insurance_Data)\n",
        "plt.show()"
      ],
      "metadata": {
        "colab": {
          "base_uri": "https://localhost:8080/",
          "height": 279
        },
        "id": "b0QQTM9773ih",
        "outputId": "a79b53bd-8704-4ef5-b5b4-32cc62906703"
      },
      "execution_count": null,
      "outputs": [
        {
          "output_type": "display_data",
          "data": {
            "text/plain": [
              "<Figure size 432x288 with 1 Axes>"
            ],
            "image/png": "[encoded data removed]"
          },
          "metadata": {
            "needs_background": "light"
          }
        }
      ]
    },
    {
      "cell_type": "markdown",
      "source": [
        "###From the above plot I can analyse that for the type of Travel Agency insurance most of the customers have chosen Customized plan and least number of customers have chosen Silver Plan. And for Airlines, most of the customers have chosen Bronze plan and least in Gold plan. There are no cancellation plan in Airlines."
      ],
      "metadata": {
        "id": "nK4dUTAj8iLf"
      }
    },
    {
      "cell_type": "code",
      "source": [
        "sns.countplot(x='Destination', hue='Claimed', data=Insurance_Data)\n",
        "plt.show()"
      ],
      "metadata": {
        "colab": {
          "base_uri": "https://localhost:8080/",
          "height": 279
        },
        "id": "sLL22aLg9p3C",
        "outputId": "94a16908-c166-44fa-ddc1-fedf0c90d3b8"
      },
      "execution_count": null,
      "outputs": [
        {
          "output_type": "display_data",
          "data": {
            "text/plain": [
              "<Figure size 432x288 with 1 Axes>"
            ],
            "image/png": "[encoded data removed]"
          },
          "metadata": {
            "needs_background": "light"
          }
        }
      ]
    },
    {
      "cell_type": "markdown",
      "source": [
        "###From the above analysis I can see that most of the customers were not claimed irrespective of the destination they visited."
      ],
      "metadata": {
        "id": "ec0b55nh-iKJ"
      }
    },
    {
      "cell_type": "code",
      "source": [
        "sns.countplot(x='Destination', hue='Type', data=Insurance_Data)\n",
        "plt.show()"
      ],
      "metadata": {
        "colab": {
          "base_uri": "https://localhost:8080/",
          "height": 279
        },
        "id": "GpmJ4gHI_8je",
        "outputId": "06b19023-593c-45eb-cb18-1c45439fe83d"
      },
      "execution_count": null,
      "outputs": [
        {
          "output_type": "display_data",
          "data": {
            "text/plain": [
              "<Figure size 432x288 with 1 Axes>"
            ],
            "image/png": "[encoded data removed]"
          },
          "metadata": {
            "needs_background": "light"
          }
        }
      ]
    },
    {
      "cell_type": "markdown",
      "source": [
        "###In this visualization I can see that for destination ASIA customers have chosen both the insurance firms in adequate numbers while for both Americas and EUROPE Customers have trusted 'Travel Agency' more to get the insurance."
      ],
      "metadata": {
        "id": "9TnuMTHSABBl"
      }
    },
    {
      "cell_type": "code",
      "source": [
        "sns.countplot(x='Agency_Code', hue='Type', data=Insurance_Data)\n",
        "plt.show()"
      ],
      "metadata": {
        "colab": {
          "base_uri": "https://localhost:8080/",
          "height": 280
        },
        "id": "93KKTySR2pNW",
        "outputId": "ea17b257-0714-4aea-e267-75cbcd3e35f1"
      },
      "execution_count": null,
      "outputs": [
        {
          "output_type": "display_data",
          "data": {
            "text/plain": [
              "<Figure size 432x288 with 1 Axes>"
            ],
            "image/png": "[encoded data removed]"
          },
          "metadata": {
            "needs_background": "light"
          }
        }
      ]
    },
    {
      "cell_type": "markdown",
      "source": [
        "###From the above plot I can see that agency codes C2B and JZI belong to Airlines and EPX and CWT are agency codes for Travel agency."
      ],
      "metadata": {
        "id": "e5IFR3yt3C0w"
      }
    },
    {
      "cell_type": "code",
      "source": [
        "pd.crosstab(Insurance_Data['Claimed'], Insurance_Data['Agency_Code'])"
      ],
      "metadata": {
        "colab": {
          "base_uri": "https://localhost:8080/",
          "height": 143
        },
        "id": "FIPHXG_B4TbY",
        "outputId": "3e7ecda8-fb93-44b5-8762-b284e1ab4371"
      },
      "execution_count": null,
      "outputs": [
        {
          "output_type": "execute_result",
          "data": {
            "text/plain": [
              "Agency_Code  C2B  CWT   EPX  JZI\n",
              "Claimed                         \n",
              "No           361  331  1046  209\n",
              "Yes          552  140   192   30"
            ],
            "text/html": [
              "\n",
              "  <div id=\"df-0fc6fab1-2c5b-4168-a936-81811e37b0a7\">\n",
              "    <div class=\"colab-df-container\">\n",
              "      <div>\n",
              "<style scoped>\n",
              "    .dataframe tbody tr th:only-of-type {\n",
              "        vertical-align: middle;\n",
              "    }\n",
              "\n",
              "    .dataframe tbody tr th {\n",
              "        vertical-align: top;\n",
              "    }\n",
              "\n",
              "    .dataframe thead th {\n",
              "        text-align: right;\n",
              "    }\n",
              "</style>\n",
              "<table border=\"1\" class=\"dataframe\">\n",
              "  <thead>\n",
              "    <tr style=\"text-align: right;\">\n",
              "      <th>Agency_Code</th>\n",
              "      <th>C2B</th>\n",
              "      <th>CWT</th>\n",
              "      <th>EPX</th>\n",
              "      <th>JZI</th>\n",
              "    </tr>\n",
              "    <tr>\n",
              "      <th>Claimed</th>\n",
              "      <th></th>\n",
              "      <th></th>\n",
              "      <th></th>\n",
              "      <th></th>\n",
              "    </tr>\n",
              "  </thead>\n",
              "  <tbody>\n",
              "    <tr>\n",
              "      <th>No</th>\n",
              "      <td>361</td>\n",
              "      <td>331</td>\n",
              "      <td>1046</td>\n",
              "      <td>209</td>\n",
              "    </tr>\n",
              "    <tr>\n",
              "      <th>Yes</th>\n",
              "      <td>552</td>\n",
              "      <td>140</td>\n",
              "      <td>192</td>\n",
              "      <td>30</td>\n",
              "    </tr>\n",
              "  </tbody>\n",
              "</table>\n",
              "</div>\n",
              "      <button class=\"colab-df-convert\" onclick=\"convertToInteractive('df-0fc6fab1-2c5b-4168-a936-81811e37b0a7')\"\n",
              "              title=\"Convert this dataframe to an interactive table.\"\n",
              "              style=\"display:none;\">\n",
              "        \n",
              "  <svg xmlns=\"http://www.w3.org/2000/svg\" height=\"24px\"viewBox=\"0 0 24 24\"\n",
              "       width=\"24px\">\n",
              "    <path d=\"M0 0h24v24H0V0z\" fill=\"none\"/>\n",
              "    <path d=\"M18.56 5.44l.94 2.06.94-2.06 2.06-.94-2.06-.94-.94-2.06-.94 2.06-2.06.94zm-11 1L8.5 8.5l.94-2.06 2.06-.94-2.06-.94L8.5 2.5l-.94 2.06-2.06.94zm10 10l.94 2.06.94-2.06 2.06-.94-2.06-.94-.94-2.06-.94 2.06-2.06.94z\"/><path d=\"M17.41 7.96l-1.37-1.37c-.4-.4-.92-.59-1.43-.59-.52 0-1.04.2-1.43.59L10.3 9.45l-7.72 7.72c-.78.78-.78 2.05 0 2.83L4 21.41c.39.39.9.59 1.41.59.51 0 1.02-.2 1.41-.59l7.78-7.78 2.81-2.81c.8-.78.8-2.07 0-2.86zM5.41 20L4 18.59l7.72-7.72 1.47 1.35L5.41 20z\"/>\n",
              "  </svg>\n",
              "      </button>\n",
              "      \n",
              "  <style>\n",
              "    .colab-df-container {\n",
              "      display:flex;\n",
              "      flex-wrap:wrap;\n",
              "      gap: 12px;\n",
              "    }\n",
              "\n",
              "    .colab-df-convert {\n",
              "      background-color: #E8F0FE;\n",
              "      border: none;\n",
              "      border-radius: 50%;\n",
              "      cursor: pointer;\n",
              "      display: none;\n",
              "      fill: #1967D2;\n",
              "      height: 32px;\n",
              "      padding: 0 0 0 0;\n",
              "      width: 32px;\n",
              "    }\n",
              "\n",
              "    .colab-df-convert:hover {\n",
              "      background-color: #E2EBFA;\n",
              "      box-shadow: 0px 1px 2px rgba(60, 64, 67, 0.3), 0px 1px 3px 1px rgba(60, 64, 67, 0.15);\n",
              "      fill: #174EA6;\n",
              "    }\n",
              "\n",
              "    [theme=dark] .colab-df-convert {\n",
              "      background-color: #3B4455;\n",
              "      fill: #D2E3FC;\n",
              "    }\n",
              "\n",
              "    [theme=dark] .colab-df-convert:hover {\n",
              "      background-color: #434B5C;\n",
              "      box-shadow: 0px 1px 3px 1px rgba(0, 0, 0, 0.15);\n",
              "      filter: drop-shadow(0px 1px 2px rgba(0, 0, 0, 0.3));\n",
              "      fill: #FFFFFF;\n",
              "    }\n",
              "  </style>\n",
              "\n",
              "      <script>\n",
              "        const buttonEl =\n",
              "          document.querySelector('#df-0fc6fab1-2c5b-4168-a936-81811e37b0a7 button.colab-df-convert');\n",
              "        buttonEl.style.display =\n",
              "          google.colab.kernel.accessAllowed ? 'block' : 'none';\n",
              "\n",
              "        async function convertToInteractive(key) {\n",
              "          const element = document.querySelector('#df-0fc6fab1-2c5b-4168-a936-81811e37b0a7');\n",
              "          const dataTable =\n",
              "            await google.colab.kernel.invokeFunction('convertToInteractive',\n",
              "                                                     [key], {});\n",
              "          if (!dataTable) return;\n",
              "\n",
              "          const docLinkHtml = 'Like what you see? Visit the ' +\n",
              "            '<a target=\"_blank\" href=https://colab.research.google.com/notebooks/data_table.ipynb>data table notebook</a>'\n",
              "            + ' to learn more about interactive tables.';\n",
              "          element.innerHTML = '';\n",
              "          dataTable['output_type'] = 'display_data';\n",
              "          await google.colab.output.renderOutput(dataTable, element);\n",
              "          const docLink = document.createElement('div');\n",
              "          docLink.innerHTML = docLinkHtml;\n",
              "          element.appendChild(docLink);\n",
              "        }\n",
              "      </script>\n",
              "    </div>\n",
              "  </div>\n",
              "  "
            ]
          },
          "metadata": {},
          "execution_count": 65
        }
      ]
    },
    {
      "cell_type": "markdown",
      "source": [
        "###From the above table I can see the number of different claim statuses in different agency codes. I can state that agency code EPX having most number of claim statuses as 'NO' while agency code C2B having most number of claim statuses as 'YES'."
      ],
      "metadata": {
        "id": "KZq5toVK4dVl"
      }
    },
    {
      "cell_type": "markdown",
      "source": [
        "###Multivariate Analysis"
      ],
      "metadata": {
        "id": "P0ajhqVTBGP5"
      }
    },
    {
      "cell_type": "code",
      "execution_count": null,
      "metadata": {
        "id": "67bb8625",
        "outputId": "67472cac-a5ca-4721-c6e9-92edbf19aab1",
        "colab": {
          "base_uri": "https://localhost:8080/",
          "height": 726
        }
      },
      "outputs": [
        {
          "output_type": "display_data",
          "data": {
            "text/plain": [
              "<Figure size 720x720 with 20 Axes>"
            ],
            "image/png": "[encoded data removed]"
          },
          "metadata": {
            "needs_background": "light"
          }
        }
      ],
      "source": [
        "sns.pairplot(Insurance_Data)\n",
        "plt.show()"
      ]
    },
    {
      "cell_type": "code",
      "execution_count": null,
      "metadata": {
        "id": "a32b5b44",
        "outputId": "85fe072b-6b67-4bf1-a755-0d80b7cbf7c4",
        "colab": {
          "base_uri": "https://localhost:8080/",
          "height": 487
        }
      },
      "outputs": [
        {
          "output_type": "display_data",
          "data": {
            "text/plain": [
              "<Figure size 720x576 with 2 Axes>"
            ],
            "image/png": "[encoded data removed]"
          },
          "metadata": {
            "needs_background": "light"
          }
        }
      ],
      "source": [
        "plt.figure(figsize=(10,8))\n",
        "sns.heatmap(Insurance_Data.corr(),annot=True,fmt=\".2f\");"
      ]
    },
    {
      "cell_type": "markdown",
      "source": [
        "###From the above visualizations using pair plot and heatmap also I can clearly see that there is hardly any correlation present among the variables."
      ],
      "metadata": {
        "id": "A7Bxxll9zVzZ"
      }
    },
    {
      "cell_type": "markdown",
      "source": [
        "##Ans 1.2"
      ],
      "metadata": {
        "id": "vCd0f14aBqcV"
      }
    },
    {
      "cell_type": "code",
      "execution_count": null,
      "metadata": {
        "id": "df7b077b"
      },
      "outputs": [],
      "source": [
        "# Decision tree in Python can take only numerical / categorical colums. It cannot take string / obeject types. \n",
        "# The following code loops through each column and checks if the column type is object then converts those columns \n",
        "# into categorical with each distinct value becoming a category or code.\n",
        "\n",
        "for feature in Insurance_Data.columns: \n",
        "    if Insurance_Data[feature].dtype == 'object': \n",
        "        Insurance_Data[feature] = pd.Categorical(Insurance_Data[feature]).codes"
      ]
    },
    {
      "cell_type": "code",
      "execution_count": null,
      "metadata": {
        "colab": {
          "base_uri": "https://localhost:8080/"
        },
        "id": "ad4cdab4",
        "outputId": "73667f45-d1f5-4a01-8d9d-7cd5cf88d6be"
      },
      "outputs": [
        {
          "output_type": "stream",
          "name": "stdout",
          "text": [
            "<class 'pandas.core.frame.DataFrame'>\n",
            "Int64Index: 2861 entries, 0 to 2999\n",
            "Data columns (total 10 columns):\n",
            " #   Column        Non-Null Count  Dtype  \n",
            "---  ------        --------------  -----  \n",
            " 0   Age           2861 non-null   int64  \n",
            " 1   Agency_Code   2861 non-null   int8   \n",
            " 2   Type          2861 non-null   int8   \n",
            " 3   Claimed       2861 non-null   int8   \n",
            " 4   Commision     2861 non-null   float64\n",
            " 5   Channel       2861 non-null   int8   \n",
            " 6   Duration      2861 non-null   float64\n",
            " 7   Sales         2861 non-null   float64\n",
            " 8   Product Name  2861 non-null   int8   \n",
            " 9   Destination   2861 non-null   int8   \n",
            "dtypes: float64(3), int64(1), int8(6)\n",
            "memory usage: 193.1 KB\n"
          ]
        }
      ],
      "source": [
        "Insurance_Data.info()"
      ]
    },
    {
      "cell_type": "code",
      "execution_count": null,
      "metadata": {
        "id": "86fde9be"
      },
      "outputs": [],
      "source": [
        "#Extracting the target column into separate vectors for training set and test set\n",
        "X = Insurance_Data.drop(\"Claimed\" , axis=1)\n",
        "\n",
        "y = Insurance_Data.pop(\"Claimed\")"
      ]
    },
    {
      "cell_type": "code",
      "execution_count": null,
      "metadata": {
        "id": "486f1511"
      },
      "outputs": [],
      "source": [
        "#Splitting data into training and test set\n",
        "\n",
        "X_train, X_test, train_labels, test_labels = train_test_split(X, y, test_size=.30, random_state=1)"
      ]
    },
    {
      "cell_type": "markdown",
      "source": [
        "###Decision Tree"
      ],
      "metadata": {
        "id": "AB6-VSxjHGSQ"
      }
    },
    {
      "cell_type": "code",
      "execution_count": null,
      "metadata": {
        "id": "4a93d150"
      },
      "outputs": [],
      "source": [
        "dt_model = DecisionTreeClassifier(criterion = 'gini' )"
      ]
    },
    {
      "cell_type": "code",
      "execution_count": null,
      "metadata": {
        "colab": {
          "base_uri": "https://localhost:8080/"
        },
        "id": "a99b4338",
        "outputId": "1dc1f38e-6582-45d5-cf86-cd31635e3602"
      },
      "outputs": [
        {
          "output_type": "execute_result",
          "data": {
            "text/plain": [
              "DecisionTreeClassifier()"
            ]
          },
          "metadata": {},
          "execution_count": 73
        }
      ],
      "source": [
        "dt_model.fit(X_train, train_labels)"
      ]
    },
    {
      "cell_type": "code",
      "execution_count": null,
      "metadata": {
        "id": "f1911b2a"
      },
      "outputs": [],
      "source": [
        "from sklearn import tree\n",
        "\n",
        "train_char_label = ['No', 'Yes']\n",
        "IN_Tree_File = open('/content/drive/MyDrive/Data Science/Data Mining/Project/insurance_part2_data.dot','w')\n",
        "dot_data = tree.export_graphviz(dt_model, out_file=IN_Tree_File, feature_names = list(X_train), class_names = list(train_char_label))"
      ]
    },
    {
      "cell_type": "code",
      "source": [
        "from sklearn.model_selection import GridSearchCV\n",
        "\n",
        "param_grid = {\n",
        "    'max_depth': [7, 8, 9, 10],\n",
        "    'min_samples_leaf': [15, 20, 25],\n",
        "    'min_samples_split': [45, 60, 75]\n",
        "}\n",
        "\n",
        "dt_model = DecisionTreeClassifier(random_state = 0)\n",
        "\n",
        "grid_search = GridSearchCV(estimator = dt_model, param_grid = param_grid, cv = 3)"
      ],
      "metadata": {
        "id": "C8Z0Ph39H1i_"
      },
      "execution_count": null,
      "outputs": []
    },
    {
      "cell_type": "code",
      "source": [
        "grid_search.fit(X_train, train_labels)"
      ],
      "metadata": {
        "colab": {
          "base_uri": "https://localhost:8080/"
        },
        "id": "Aa7GQoIeH5h7",
        "outputId": "db55ffa3-f833-433a-8774-30ec2018c6d5"
      },
      "execution_count": null,
      "outputs": [
        {
          "output_type": "execute_result",
          "data": {
            "text/plain": [
              "GridSearchCV(cv=3, estimator=DecisionTreeClassifier(random_state=0),\n",
              "             param_grid={'max_depth': [7, 8, 9, 10],\n",
              "                         'min_samples_leaf': [15, 20, 25],\n",
              "                         'min_samples_split': [45, 60, 75]})"
            ]
          },
          "metadata": {},
          "execution_count": 76
        }
      ]
    },
    {
      "cell_type": "code",
      "source": [
        "grid_search.best_params_"
      ],
      "metadata": {
        "colab": {
          "base_uri": "https://localhost:8080/"
        },
        "id": "e6mdA85mIA4x",
        "outputId": "1eb84bf1-2e44-4834-ed8a-348c7de9ca68"
      },
      "execution_count": null,
      "outputs": [
        {
          "output_type": "execute_result",
          "data": {
            "text/plain": [
              "{'max_depth': 8, 'min_samples_leaf': 20, 'min_samples_split': 45}"
            ]
          },
          "metadata": {},
          "execution_count": 77
        }
      ]
    },
    {
      "cell_type": "code",
      "source": [
        "best_grid = grid_search.best_estimator_"
      ],
      "metadata": {
        "id": "jVDKaA3dIDcs"
      },
      "execution_count": null,
      "outputs": []
    },
    {
      "cell_type": "code",
      "execution_count": null,
      "metadata": {
        "id": "eca6b6d7"
      },
      "outputs": [],
      "source": [
        "ytrain_predict_dt = best_grid.predict(X_train)\n",
        "ytest_predict_dt = best_grid.predict(X_test)"
      ]
    },
    {
      "cell_type": "markdown",
      "metadata": {
        "id": "cb38d712"
      },
      "source": [
        "### Random Forest"
      ]
    },
    {
      "cell_type": "code",
      "source": [
        "param_grid = {\n",
        "    'max_depth': [7, 8],\n",
        "    'min_samples_leaf': [20, 25],\n",
        "    'min_samples_split': [60, 75],\n",
        "    'n_estimators': [101, 301]\n",
        "}\n",
        "\n",
        "RF = RandomForestClassifier(random_state = 0)\n",
        "\n",
        "grid_search_1 = GridSearchCV(estimator = RF, param_grid = param_grid, cv = 3)"
      ],
      "metadata": {
        "id": "XTXj3V7wIjQz"
      },
      "execution_count": null,
      "outputs": []
    },
    {
      "cell_type": "code",
      "execution_count": null,
      "metadata": {
        "colab": {
          "base_uri": "https://localhost:8080/"
        },
        "id": "51a03275",
        "outputId": "3a7f8ea2-128c-44ab-deca-9ca5f9e5f778"
      },
      "outputs": [
        {
          "output_type": "execute_result",
          "data": {
            "text/plain": [
              "GridSearchCV(cv=3, estimator=RandomForestClassifier(random_state=0),\n",
              "             param_grid={'max_depth': [7, 8], 'min_samples_leaf': [20, 25],\n",
              "                         'min_samples_split': [60, 75],\n",
              "                         'n_estimators': [101, 301]})"
            ]
          },
          "metadata": {},
          "execution_count": 81
        }
      ],
      "source": [
        "grid_search_1.fit(X_train, train_labels)"
      ]
    },
    {
      "cell_type": "code",
      "source": [
        "grid_search_1.best_params_"
      ],
      "metadata": {
        "colab": {
          "base_uri": "https://localhost:8080/"
        },
        "id": "2P5I5HJhI4fp",
        "outputId": "102f5a1c-d674-41d8-d7c3-f16aefd4a778"
      },
      "execution_count": null,
      "outputs": [
        {
          "output_type": "execute_result",
          "data": {
            "text/plain": [
              "{'max_depth': 8,\n",
              " 'min_samples_leaf': 20,\n",
              " 'min_samples_split': 75,\n",
              " 'n_estimators': 101}"
            ]
          },
          "metadata": {},
          "execution_count": 82
        }
      ]
    },
    {
      "cell_type": "code",
      "source": [
        "best_grid_RF = grid_search_1.best_estimator_"
      ],
      "metadata": {
        "id": "RxuLDZvgI-iR"
      },
      "execution_count": null,
      "outputs": []
    },
    {
      "cell_type": "code",
      "execution_count": null,
      "metadata": {
        "id": "9472a9e0"
      },
      "outputs": [],
      "source": [
        "ytrain_predict_RF = best_grid_RF.predict(X_train)\n",
        "ytest_predict_RF = best_grid_RF.predict(X_test)"
      ]
    },
    {
      "cell_type": "markdown",
      "metadata": {
        "id": "ac14ee20"
      },
      "source": [
        "### Artificial Neural Network"
      ]
    },
    {
      "cell_type": "code",
      "execution_count": null,
      "metadata": {
        "id": "4e138ca5"
      },
      "outputs": [],
      "source": [
        "from sklearn.preprocessing import StandardScaler\n",
        "sc = StandardScaler() \n",
        "X_trains = sc.fit_transform(X_train) \n",
        "X_tests = sc.transform(X_test)"
      ]
    },
    {
      "cell_type": "code",
      "source": [
        "param_grid = {\n",
        "    'hidden_layer_sizes': [(100,100)],\n",
        "    'activation': ['logistic', 'relu'],\n",
        "    'solver': ['sgd', 'adam'],\n",
        "    'tol': [0.01,0.001],\n",
        "    'max_iter' : [500]\n",
        "}\n",
        "\n",
        "ANN = MLPClassifier(random_state = 0)\n",
        "\n",
        "grid_search_2 = GridSearchCV(estimator = ANN, param_grid = param_grid, cv = 3)"
      ],
      "metadata": {
        "id": "WxBy1j26Johj"
      },
      "execution_count": null,
      "outputs": []
    },
    {
      "cell_type": "code",
      "source": [
        "grid_search_2.fit(X_trains, train_labels)"
      ],
      "metadata": {
        "colab": {
          "base_uri": "https://localhost:8080/"
        },
        "id": "gqGCTUoTJ09M",
        "outputId": "7b4719e5-f678-4658-c77a-001b7c0dbbec"
      },
      "execution_count": null,
      "outputs": [
        {
          "output_type": "execute_result",
          "data": {
            "text/plain": [
              "GridSearchCV(cv=3, estimator=MLPClassifier(random_state=0),\n",
              "             param_grid={'activation': ['logistic', 'relu'],\n",
              "                         'hidden_layer_sizes': [(100, 100)], 'max_iter': [500],\n",
              "                         'solver': ['sgd', 'adam'], 'tol': [0.01, 0.001]})"
            ]
          },
          "metadata": {},
          "execution_count": 87
        }
      ]
    },
    {
      "cell_type": "code",
      "source": [
        "grid_search_2.best_params_"
      ],
      "metadata": {
        "colab": {
          "base_uri": "https://localhost:8080/"
        },
        "id": "PMikIkHIJ6Fk",
        "outputId": "f53dd558-9501-4ba6-bf5a-0494a03873ee"
      },
      "execution_count": null,
      "outputs": [
        {
          "output_type": "execute_result",
          "data": {
            "text/plain": [
              "{'activation': 'relu',\n",
              " 'hidden_layer_sizes': (100, 100),\n",
              " 'max_iter': 500,\n",
              " 'solver': 'adam',\n",
              " 'tol': 0.01}"
            ]
          },
          "metadata": {},
          "execution_count": 88
        }
      ]
    },
    {
      "cell_type": "code",
      "source": [
        "best_grid_nn = grid_search_2.best_estimator_"
      ],
      "metadata": {
        "id": "GXPXWoRXKEXp"
      },
      "execution_count": null,
      "outputs": []
    },
    {
      "cell_type": "code",
      "source": [
        "ytrain_predict_NN = best_grid_nn.predict(X_trains)\n",
        "ytest_predict_NN = best_grid_nn.predict(X_tests)"
      ],
      "metadata": {
        "id": "ABPHfFLjKJeh"
      },
      "execution_count": null,
      "outputs": []
    },
    {
      "cell_type": "markdown",
      "source": [
        "###Grid-search is used to find the optimal hyperparameters of a model which results in the most 'accurate' predictions. That is why I have used Grid Search here GridSearch to find the best model very easily."
      ],
      "metadata": {
        "id": "YnH1ftlR8COM"
      }
    },
    {
      "cell_type": "markdown",
      "source": [
        "##Ans 1.3"
      ],
      "metadata": {
        "id": "AIFKthzvKVi_"
      }
    },
    {
      "cell_type": "markdown",
      "source": [
        "###Performance metrics for Decision Tree Model"
      ],
      "metadata": {
        "id": "Ml97hMj6Kuij"
      }
    },
    {
      "cell_type": "code",
      "execution_count": null,
      "metadata": {
        "id": "19f0d1e6"
      },
      "outputs": [],
      "source": [
        "from sklearn.metrics import classification_report,confusion_matrix"
      ]
    },
    {
      "cell_type": "code",
      "execution_count": null,
      "metadata": {
        "colab": {
          "base_uri": "https://localhost:8080/"
        },
        "id": "06171149",
        "outputId": "60d2d37b-9f4e-4fa8-a6d4-da73ac31ddb4"
      },
      "outputs": [
        {
          "output_type": "stream",
          "name": "stdout",
          "text": [
            "              precision    recall  f1-score   support\n",
            "\n",
            "           0       0.82      0.88      0.85      1359\n",
            "           1       0.70      0.59      0.64       643\n",
            "\n",
            "    accuracy                           0.79      2002\n",
            "   macro avg       0.76      0.74      0.75      2002\n",
            "weighted avg       0.78      0.79      0.78      2002\n",
            "\n"
          ]
        }
      ],
      "source": [
        "print(classification_report(train_labels, ytrain_predict_dt))"
      ]
    },
    {
      "cell_type": "code",
      "execution_count": null,
      "metadata": {
        "colab": {
          "base_uri": "https://localhost:8080/"
        },
        "id": "0472cdfa",
        "outputId": "99d91597-130f-4661-8e92-b1ab47044a53"
      },
      "outputs": [
        {
          "output_type": "stream",
          "name": "stdout",
          "text": [
            "              precision    recall  f1-score   support\n",
            "\n",
            "           0       0.80      0.86      0.83       588\n",
            "           1       0.63      0.53      0.58       271\n",
            "\n",
            "    accuracy                           0.75       859\n",
            "   macro avg       0.72      0.69      0.70       859\n",
            "weighted avg       0.75      0.75      0.75       859\n",
            "\n"
          ]
        }
      ],
      "source": [
        "print(classification_report(test_labels, ytest_predict_dt))"
      ]
    },
    {
      "cell_type": "code",
      "source": [
        "print (pd.DataFrame(best_grid.feature_importances_, columns = [\"Imp\"], index = X_train.columns).sort_values('Imp',ascending=False))"
      ],
      "metadata": {
        "colab": {
          "base_uri": "https://localhost:8080/"
        },
        "id": "hHTzdqKJLm6G",
        "outputId": "3d47f9ca-16c4-4671-b52a-598014d4d6c2"
      },
      "execution_count": null,
      "outputs": [
        {
          "output_type": "stream",
          "name": "stdout",
          "text": [
            "                   Imp\n",
            "Agency_Code   0.473051\n",
            "Sales         0.265188\n",
            "Duration      0.089125\n",
            "Age           0.067663\n",
            "Commision     0.059575\n",
            "Product Name  0.037309\n",
            "Destination   0.008089\n",
            "Type          0.000000\n",
            "Channel       0.000000\n"
          ]
        }
      ]
    },
    {
      "cell_type": "code",
      "source": [
        "confusion_matrix(train_labels, ytrain_predict_dt)"
      ],
      "metadata": {
        "colab": {
          "base_uri": "https://localhost:8080/"
        },
        "id": "nZHI8QtbLtF4",
        "outputId": "7dace114-d4d0-4621-c4ea-70a806fd2e3d"
      },
      "execution_count": null,
      "outputs": [
        {
          "output_type": "execute_result",
          "data": {
            "text/plain": [
              "array([[1199,  160],\n",
              "       [ 262,  381]])"
            ]
          },
          "metadata": {},
          "execution_count": 95
        }
      ]
    },
    {
      "cell_type": "code",
      "source": [
        "confusion_matrix(test_labels, ytest_predict_dt)"
      ],
      "metadata": {
        "colab": {
          "base_uri": "https://localhost:8080/"
        },
        "id": "j52MfjcxL0m1",
        "outputId": "1584366a-7eb0-4285-991c-53ab6f19b6d5"
      },
      "execution_count": null,
      "outputs": [
        {
          "output_type": "execute_result",
          "data": {
            "text/plain": [
              "array([[504,  84],\n",
              "       [127, 144]])"
            ]
          },
          "metadata": {},
          "execution_count": 96
        }
      ]
    },
    {
      "cell_type": "code",
      "source": [
        "sns.heatmap(confusion_matrix(train_labels, ytrain_predict_dt),annot=True, fmt='d', cbar=False)\n",
        "plt.xlabel('Predicted Label')\n",
        "plt.ylabel('Actual Label')\n",
        "plt.title('Confusion Matrix')\n",
        "plt.show()"
      ],
      "metadata": {
        "colab": {
          "base_uri": "https://localhost:8080/",
          "height": 295
        },
        "id": "n-BrB9TTL5__",
        "outputId": "3bca4bb8-e578-4209-9579-cdb8471ab9a9"
      },
      "execution_count": null,
      "outputs": [
        {
          "output_type": "display_data",
          "data": {
            "text/plain": [
              "<Figure size 432x288 with 1 Axes>"
            ],
            "image/png": "[encoded data removed]"
          },
          "metadata": {
            "needs_background": "light"
          }
        }
      ]
    },
    {
      "cell_type": "code",
      "source": [
        "sns.heatmap(confusion_matrix(test_labels, ytest_predict_dt),annot=True, fmt='d', cbar=False)\n",
        "plt.xlabel('Predicted Label')\n",
        "plt.ylabel('Actual Label')\n",
        "plt.title('Confusion Matrix')\n",
        "plt.show()"
      ],
      "metadata": {
        "colab": {
          "base_uri": "https://localhost:8080/",
          "height": 295
        },
        "id": "zEtTL0LAL9fX",
        "outputId": "4ff3bc1e-de1f-484c-c9d5-e0d71f7307a0"
      },
      "execution_count": null,
      "outputs": [
        {
          "output_type": "display_data",
          "data": {
            "text/plain": [
              "<Figure size 432x288 with 1 Axes>"
            ],
            "image/png": "[encoded data removed]"
          },
          "metadata": {
            "needs_background": "light"
          }
        }
      ]
    },
    {
      "cell_type": "code",
      "source": [
        "# predict probabilities\n",
        "probs = best_grid.predict_proba(X_train)\n",
        "# keep probabilities for the positive outcome only\n",
        "probs = probs[:, 1]\n",
        "# calculate AUC\n",
        "from sklearn.metrics import roc_auc_score\n",
        "auc = roc_auc_score(train_labels, probs)\n",
        "print('AUC: %.3f' % auc)\n",
        "# calculate roc curve\n",
        "from sklearn.metrics import roc_curve\n",
        "fpr, tpr, thresholds = roc_curve(train_labels, probs)\n",
        "plt.plot([0, 1], [0, 1], linestyle='--')\n",
        "# plot the roc curve for the model\n",
        "plt.plot(fpr, tpr, marker='.')\n",
        "# show the plot\n",
        "plt.show()"
      ],
      "metadata": {
        "colab": {
          "base_uri": "https://localhost:8080/",
          "height": 283
        },
        "id": "h-i_vKGcNqU2",
        "outputId": "fb9dd1d8-dac7-4cba-af68-a6c00dad76df"
      },
      "execution_count": null,
      "outputs": [
        {
          "output_type": "stream",
          "name": "stdout",
          "text": [
            "AUC: 0.849\n"
          ]
        },
        {
          "output_type": "display_data",
          "data": {
            "text/plain": [
              "<Figure size 432x288 with 1 Axes>"
            ],
            "image/png": "[encoded data removed]"
          },
          "metadata": {
            "needs_background": "light"
          }
        }
      ]
    },
    {
      "cell_type": "code",
      "source": [
        "# predict probabilities\n",
        "probs = best_grid.predict_proba(X_test)\n",
        "# keep probabilities for the positive outcome only\n",
        "probs = probs[:, 1]\n",
        "# calculate AUC\n",
        "from sklearn.metrics import roc_auc_score\n",
        "auc = roc_auc_score(test_labels, probs)\n",
        "print('AUC: %.3f' % auc)\n",
        "# calculate roc curve\n",
        "from sklearn.metrics import roc_curve\n",
        "fpr, tpr, thresholds = roc_curve(test_labels, probs)\n",
        "plt.plot([0, 1], [0, 1], linestyle='--')\n",
        "# plot the roc curve for the model\n",
        "plt.plot(fpr, tpr, marker='.')\n",
        "# show the plot\n",
        "plt.show()"
      ],
      "metadata": {
        "colab": {
          "base_uri": "https://localhost:8080/",
          "height": 283
        },
        "id": "eAJYm23HOFWH",
        "outputId": "6e3f1837-90d6-4b83-ffad-bd95baf71fbb"
      },
      "execution_count": null,
      "outputs": [
        {
          "output_type": "stream",
          "name": "stdout",
          "text": [
            "AUC: 0.771\n"
          ]
        },
        {
          "output_type": "display_data",
          "data": {
            "text/plain": [
              "<Figure size 432x288 with 1 Axes>"
            ],
            "image/png": "[encoded data removed]"
          },
          "metadata": {
            "needs_background": "light"
          }
        }
      ]
    },
    {
      "cell_type": "markdown",
      "source": [
        "###Prediction metrics for Random Forest model"
      ],
      "metadata": {
        "id": "s0EQ34zAOPzx"
      }
    },
    {
      "cell_type": "code",
      "source": [
        "print (pd.DataFrame(best_grid_RF.feature_importances_, columns = [\"Imp\"], index = X_train.columns).sort_values('Imp',ascending=False))"
      ],
      "metadata": {
        "colab": {
          "base_uri": "https://localhost:8080/"
        },
        "id": "ALBcurPpOYWR",
        "outputId": "bf173e08-f4f3-4987-b603-b1829f0d0cec"
      },
      "execution_count": null,
      "outputs": [
        {
          "output_type": "stream",
          "name": "stdout",
          "text": [
            "                   Imp\n",
            "Agency_Code   0.299376\n",
            "Product Name  0.214719\n",
            "Sales         0.184238\n",
            "Commision     0.116619\n",
            "Duration      0.084162\n",
            "Type          0.048951\n",
            "Age           0.041452\n",
            "Destination   0.010319\n",
            "Channel       0.000166\n"
          ]
        }
      ]
    },
    {
      "cell_type": "code",
      "source": [
        "print(classification_report(train_labels,ytrain_predict_RF))"
      ],
      "metadata": {
        "colab": {
          "base_uri": "https://localhost:8080/"
        },
        "id": "hTrxGUKHOinI",
        "outputId": "47a0e99e-07f6-448a-9d0e-9a77b20649f4"
      },
      "execution_count": null,
      "outputs": [
        {
          "output_type": "stream",
          "name": "stdout",
          "text": [
            "              precision    recall  f1-score   support\n",
            "\n",
            "           0       0.81      0.90      0.85      1359\n",
            "           1       0.73      0.55      0.62       643\n",
            "\n",
            "    accuracy                           0.79      2002\n",
            "   macro avg       0.77      0.72      0.74      2002\n",
            "weighted avg       0.78      0.79      0.78      2002\n",
            "\n"
          ]
        }
      ]
    },
    {
      "cell_type": "code",
      "source": [
        "print(classification_report(test_labels,ytest_predict_RF))"
      ],
      "metadata": {
        "colab": {
          "base_uri": "https://localhost:8080/"
        },
        "id": "9gZrjYvMOlKz",
        "outputId": "209ffc4c-92c0-47bd-a687-207fc58301bb"
      },
      "execution_count": null,
      "outputs": [
        {
          "output_type": "stream",
          "name": "stdout",
          "text": [
            "              precision    recall  f1-score   support\n",
            "\n",
            "           0       0.80      0.89      0.85       588\n",
            "           1       0.69      0.53      0.60       271\n",
            "\n",
            "    accuracy                           0.78       859\n",
            "   macro avg       0.75      0.71      0.72       859\n",
            "weighted avg       0.77      0.78      0.77       859\n",
            "\n"
          ]
        }
      ]
    },
    {
      "cell_type": "code",
      "source": [
        "confusion_matrix(train_labels, ytrain_predict_RF)"
      ],
      "metadata": {
        "colab": {
          "base_uri": "https://localhost:8080/"
        },
        "id": "cuxlBxT_LQ3h",
        "outputId": "5377c41d-b859-4b85-c996-1f6b62a7ffa6"
      },
      "execution_count": null,
      "outputs": [
        {
          "output_type": "execute_result",
          "data": {
            "text/plain": [
              "array([[1226,  133],\n",
              "       [ 292,  351]])"
            ]
          },
          "metadata": {},
          "execution_count": 108
        }
      ]
    },
    {
      "cell_type": "code",
      "source": [
        "sns.heatmap(confusion_matrix(train_labels, ytrain_predict_RF),annot=True, fmt='d', cbar=False)\n",
        "plt.xlabel('Predicted Label')\n",
        "plt.ylabel('Actual Label')\n",
        "plt.title('Confusion Matrix')\n",
        "plt.show()"
      ],
      "metadata": {
        "colab": {
          "base_uri": "https://localhost:8080/",
          "height": 295
        },
        "id": "XU2fnWVIOwTc",
        "outputId": "df5a4af3-515b-4110-8ba9-91b0207a2458"
      },
      "execution_count": null,
      "outputs": [
        {
          "output_type": "display_data",
          "data": {
            "text/plain": [
              "<Figure size 432x288 with 1 Axes>"
            ],
            "image/png": "[encoded data removed]"
          },
          "metadata": {
            "needs_background": "light"
          }
        }
      ]
    },
    {
      "cell_type": "code",
      "source": [
        "confusion_matrix(test_labels, ytest_predict_RF)"
      ],
      "metadata": {
        "colab": {
          "base_uri": "https://localhost:8080/"
        },
        "id": "1D6SQ7pKLwPF",
        "outputId": "667f4a29-f9c8-4af0-a67a-3c6991c3177b"
      },
      "execution_count": null,
      "outputs": [
        {
          "output_type": "execute_result",
          "data": {
            "text/plain": [
              "array([[525,  63],\n",
              "       [128, 143]])"
            ]
          },
          "metadata": {},
          "execution_count": 109
        }
      ]
    },
    {
      "cell_type": "code",
      "source": [
        "sns.heatmap(confusion_matrix(test_labels, ytest_predict_RF),annot=True, fmt='d', cbar=False)\n",
        "plt.xlabel('Predicted Label')\n",
        "plt.ylabel('Actual Label')\n",
        "plt.title('Confusion Matrix')\n",
        "plt.show()"
      ],
      "metadata": {
        "colab": {
          "base_uri": "https://localhost:8080/",
          "height": 295
        },
        "id": "xFFgl1MLO0Pt",
        "outputId": "a0d39598-0498-4bbe-8766-7ae69011976b"
      },
      "execution_count": null,
      "outputs": [
        {
          "output_type": "display_data",
          "data": {
            "text/plain": [
              "<Figure size 432x288 with 1 Axes>"
            ],
            "image/png": "[encoded data removed]"
          },
          "metadata": {
            "needs_background": "light"
          }
        }
      ]
    },
    {
      "cell_type": "code",
      "source": [
        "# predict probabilities\n",
        "probs = best_grid_RF.predict_proba(X_train)\n",
        "# keep probabilities for the positive outcome only\n",
        "probs = probs[:, 1]\n",
        "# calculate AUC\n",
        "from sklearn.metrics import roc_auc_score\n",
        "auc = roc_auc_score(train_labels, probs)\n",
        "print('AUC: %.3f' % auc)\n",
        "# calculate roc curve\n",
        "from sklearn.metrics import roc_curve\n",
        "fpr, tpr, thresholds = roc_curve(train_labels, probs)\n",
        "plt.plot([0, 1], [0, 1], linestyle='--')\n",
        "# plot the roc curve for the model\n",
        "plt.plot(fpr, tpr, marker='.')\n",
        "# show the plot\n",
        "plt.show()"
      ],
      "metadata": {
        "colab": {
          "base_uri": "https://localhost:8080/",
          "height": 283
        },
        "id": "lsHo0QQWO658",
        "outputId": "4493d440-634c-442a-df4e-9f1bd226ee93"
      },
      "execution_count": null,
      "outputs": [
        {
          "output_type": "stream",
          "name": "stdout",
          "text": [
            "AUC: 0.835\n"
          ]
        },
        {
          "output_type": "display_data",
          "data": {
            "text/plain": [
              "<Figure size 432x288 with 1 Axes>"
            ],
            "image/png": "[encoded data removed]"
          },
          "metadata": {
            "needs_background": "light"
          }
        }
      ]
    },
    {
      "cell_type": "code",
      "source": [
        "# predict probabilities\n",
        "probs = best_grid_RF.predict_proba(X_test)\n",
        "# keep probabilities for the positive outcome only\n",
        "probs = probs[:, 1]\n",
        "# calculate AUC\n",
        "from sklearn.metrics import roc_auc_score\n",
        "auc = roc_auc_score(test_labels, probs)\n",
        "print('AUC: %.3f' % auc)\n",
        "# calculate roc curve\n",
        "from sklearn.metrics import roc_curve\n",
        "fpr, tpr, thresholds = roc_curve(test_labels, probs)\n",
        "plt.plot([0, 1], [0, 1], linestyle='--')\n",
        "# plot the roc curve for the model\n",
        "plt.plot(fpr, tpr, marker='.')\n",
        "# show the plot\n",
        "plt.show()"
      ],
      "metadata": {
        "colab": {
          "base_uri": "https://localhost:8080/",
          "height": 283
        },
        "id": "Gbam2QAhPGbT",
        "outputId": "d11ecc58-5818-4f1f-d1ed-a6a1dbb5f2e6"
      },
      "execution_count": null,
      "outputs": [
        {
          "output_type": "stream",
          "name": "stdout",
          "text": [
            "AUC: 0.819\n"
          ]
        },
        {
          "output_type": "display_data",
          "data": {
            "text/plain": [
              "<Figure size 432x288 with 1 Axes>"
            ],
            "image/png": "[encoded data removed]"
          },
          "metadata": {
            "needs_background": "light"
          }
        }
      ]
    },
    {
      "cell_type": "markdown",
      "source": [
        "###Prediction metrics for Artificial Neural Network"
      ],
      "metadata": {
        "id": "_um1UJWMPMqH"
      }
    },
    {
      "cell_type": "code",
      "source": [
        "print(classification_report(train_labels,ytrain_predict_NN))"
      ],
      "metadata": {
        "colab": {
          "base_uri": "https://localhost:8080/"
        },
        "id": "iW1DnBxPPTRm",
        "outputId": "7a375f79-779f-4322-80e4-d8b47be18733"
      },
      "execution_count": null,
      "outputs": [
        {
          "output_type": "stream",
          "name": "stdout",
          "text": [
            "              precision    recall  f1-score   support\n",
            "\n",
            "           0       0.79      0.89      0.84      1359\n",
            "           1       0.68      0.51      0.59       643\n",
            "\n",
            "    accuracy                           0.77      2002\n",
            "   macro avg       0.74      0.70      0.71      2002\n",
            "weighted avg       0.76      0.77      0.76      2002\n",
            "\n"
          ]
        }
      ]
    },
    {
      "cell_type": "code",
      "source": [
        "print(classification_report(test_labels,ytest_predict_NN))"
      ],
      "metadata": {
        "colab": {
          "base_uri": "https://localhost:8080/"
        },
        "id": "nf_BULqsPY20",
        "outputId": "b08ba03a-b7dc-4647-bc58-862ef1891c26"
      },
      "execution_count": null,
      "outputs": [
        {
          "output_type": "stream",
          "name": "stdout",
          "text": [
            "              precision    recall  f1-score   support\n",
            "\n",
            "           0       0.79      0.90      0.84       588\n",
            "           1       0.69      0.49      0.58       271\n",
            "\n",
            "    accuracy                           0.77       859\n",
            "   macro avg       0.74      0.70      0.71       859\n",
            "weighted avg       0.76      0.77      0.76       859\n",
            "\n"
          ]
        }
      ]
    },
    {
      "cell_type": "code",
      "source": [
        "confusion_matrix(train_labels, ytrain_predict_NN)"
      ],
      "metadata": {
        "colab": {
          "base_uri": "https://localhost:8080/"
        },
        "id": "FQFLlVLKPg23",
        "outputId": "636f8f2f-8248-4b43-e752-4f1cb3a390b6"
      },
      "execution_count": null,
      "outputs": [
        {
          "output_type": "execute_result",
          "data": {
            "text/plain": [
              "array([[1204,  155],\n",
              "       [ 313,  330]])"
            ]
          },
          "metadata": {},
          "execution_count": 112
        }
      ]
    },
    {
      "cell_type": "code",
      "source": [
        "sns.heatmap(confusion_matrix(train_labels, ytrain_predict_NN),annot=True, fmt='d', cbar=False)\n",
        "plt.xlabel('Predicted Label')\n",
        "plt.ylabel('Actual Label')\n",
        "plt.title('Confusion Matrix')\n",
        "plt.show()"
      ],
      "metadata": {
        "colab": {
          "base_uri": "https://localhost:8080/",
          "height": 295
        },
        "id": "dJchTADqPmC7",
        "outputId": "504b1aab-526f-4078-cdfa-58af647af8e6"
      },
      "execution_count": null,
      "outputs": [
        {
          "output_type": "display_data",
          "data": {
            "text/plain": [
              "<Figure size 432x288 with 1 Axes>"
            ],
            "image/png": "[encoded data removed]"
          },
          "metadata": {
            "needs_background": "light"
          }
        }
      ]
    },
    {
      "cell_type": "code",
      "source": [
        "confusion_matrix(test_labels, ytest_predict_NN)"
      ],
      "metadata": {
        "colab": {
          "base_uri": "https://localhost:8080/"
        },
        "id": "7VKL4gwsPsb5",
        "outputId": "67f3237c-a78d-4d8e-ddca-1851b1b6cc5f"
      },
      "execution_count": null,
      "outputs": [
        {
          "output_type": "execute_result",
          "data": {
            "text/plain": [
              "array([[527,  61],\n",
              "       [137, 134]])"
            ]
          },
          "metadata": {},
          "execution_count": 114
        }
      ]
    },
    {
      "cell_type": "code",
      "source": [
        "sns.heatmap(confusion_matrix(test_labels, ytest_predict_NN),annot=True, fmt='d', cbar=False)\n",
        "plt.xlabel('Predicted Label')\n",
        "plt.ylabel('Actual Label')\n",
        "plt.title('Confusion Matrix')\n",
        "plt.show()"
      ],
      "metadata": {
        "colab": {
          "base_uri": "https://localhost:8080/",
          "height": 295
        },
        "id": "WiEJ3442Pp_k",
        "outputId": "ab14cfcc-d4a9-4cf8-bba4-90fad3aaa0e4"
      },
      "execution_count": null,
      "outputs": [
        {
          "output_type": "display_data",
          "data": {
            "text/plain": [
              "<Figure size 432x288 with 1 Axes>"
            ],
            "image/png": "[encoded data removed]"
          },
          "metadata": {
            "needs_background": "light"
          }
        }
      ]
    },
    {
      "cell_type": "code",
      "source": [
        "# predict probabilities\n",
        "probs = best_grid_nn.predict_proba(X_trains)\n",
        "# keep probabilities for the positive outcome only\n",
        "probs = probs[:, 1]\n",
        "# calculate AUC\n",
        "from sklearn.metrics import roc_auc_score\n",
        "auc = roc_auc_score(train_labels, probs)\n",
        "print('AUC: %.3f' % auc)\n",
        "# calculate roc curve\n",
        "from sklearn.metrics import roc_curve\n",
        "fpr, tpr, thresholds = roc_curve(train_labels, probs)\n",
        "plt.plot([0, 1], [0, 1], linestyle='--')\n",
        "# plot the roc curve for the model\n",
        "plt.plot(fpr, tpr, marker='.')\n",
        "# show the plot\n",
        "plt.show()"
      ],
      "metadata": {
        "colab": {
          "base_uri": "https://localhost:8080/",
          "height": 283
        },
        "id": "AKwAZcDDP6wr",
        "outputId": "0a516771-0a4c-41ba-d605-dc2b9213c0ec"
      },
      "execution_count": null,
      "outputs": [
        {
          "output_type": "stream",
          "name": "stdout",
          "text": [
            "AUC: 0.802\n"
          ]
        },
        {
          "output_type": "display_data",
          "data": {
            "text/plain": [
              "<Figure size 432x288 with 1 Axes>"
            ],
            "image/png": "[encoded data removed]"
          },
          "metadata": {
            "needs_background": "light"
          }
        }
      ]
    },
    {
      "cell_type": "code",
      "source": [
        "# predict probabilities\n",
        "probs = best_grid_nn.predict_proba(X_tests)\n",
        "# keep probabilities for the positive outcome only\n",
        "probs = probs[:, 1]\n",
        "# calculate AUC\n",
        "from sklearn.metrics import roc_auc_score\n",
        "auc = roc_auc_score(test_labels, probs)\n",
        "print('AUC: %.3f' % auc)\n",
        "# calculate roc curve\n",
        "from sklearn.metrics import roc_curve\n",
        "fpr, tpr, thresholds = roc_curve(test_labels, probs)\n",
        "plt.plot([0, 1], [0, 1], linestyle='--')\n",
        "# plot the roc curve for the model\n",
        "plt.plot(fpr, tpr, marker='.')\n",
        "# show the plot\n",
        "plt.show()"
      ],
      "metadata": {
        "colab": {
          "base_uri": "https://localhost:8080/",
          "height": 283
        },
        "id": "hqYm3v7IQKC2",
        "outputId": "08667163-0069-4437-943c-5ee7dd1e8979"
      },
      "execution_count": null,
      "outputs": [
        {
          "output_type": "stream",
          "name": "stdout",
          "text": [
            "AUC: 0.804\n"
          ]
        },
        {
          "output_type": "display_data",
          "data": {
            "text/plain": [
              "<Figure size 432x288 with 1 Axes>"
            ],
            "image/png": "[encoded data removed]"
          },
          "metadata": {
            "needs_background": "light"
          }
        }
      ]
    },
    {
      "cell_type": "markdown",
      "source": [
        "##Ans 1.4"
      ],
      "metadata": {
        "id": "FhkOzAPcWBm8"
      }
    },
    {
      "cell_type": "code",
      "source": [
        "#If I compare all the models based on the prediction metrics\n",
        "\n",
        "index=['Accuracy', 'AUC', 'Recall','Precision','F1 Score']\n",
        "data = pd.DataFrame({'CART Train':[0.79, 0.849, 0.59, 0.70, 0.64],\n",
        "        'CART Test':[0.75, 0.771, 0.53, 0.63, 0.58],\n",
        "       'Random Forest Train':[0.79, 0.835, 0.55, 0.73, 0.62],\n",
        "        'Random Forest Test':[0.78, 0.819, 0.53, 0.69, 0.60],\n",
        "       'Neural Network Train':[0.77, 0.802, 0.51, 0.68, 0.59],\n",
        "        'Neural Network Test':[0.77, 0.804, 0.49, 0.69, 0.58]}, index=index)"
      ],
      "metadata": {
        "id": "99XEwheeRcve"
      },
      "execution_count": null,
      "outputs": []
    },
    {
      "cell_type": "code",
      "source": [
        "data"
      ],
      "metadata": {
        "colab": {
          "base_uri": "https://localhost:8080/",
          "height": 206
        },
        "id": "9EHWFgIbXpe5",
        "outputId": "fd26d4df-d5b8-4bed-c5b1-cf23754ac306"
      },
      "execution_count": null,
      "outputs": [
        {
          "output_type": "execute_result",
          "data": {
            "text/plain": [
              "           CART Train  CART Test  Random Forest Train  Random Forest Test  \\\n",
              "Accuracy        0.790      0.750                0.790               0.780   \n",
              "AUC             0.849      0.771                0.835               0.819   \n",
              "Recall          0.590      0.530                0.550               0.530   \n",
              "Precision       0.700      0.630                0.730               0.690   \n",
              "F1 Score        0.640      0.580                0.620               0.600   \n",
              "\n",
              "           Neural Network Train  Neural Network Test  \n",
              "Accuracy                  0.770                0.770  \n",
              "AUC                       0.802                0.804  \n",
              "Recall                    0.510                0.490  \n",
              "Precision                 0.680                0.690  \n",
              "F1 Score                  0.590                0.580  "
            ],
            "text/html": [
              "\n",
              "  <div id=\"df-4792e4c1-d08f-4308-b61d-66f3b8677f26\">\n",
              "    <div class=\"colab-df-container\">\n",
              "      <div>\n",
              "<style scoped>\n",
              "    .dataframe tbody tr th:only-of-type {\n",
              "        vertical-align: middle;\n",
              "    }\n",
              "\n",
              "    .dataframe tbody tr th {\n",
              "        vertical-align: top;\n",
              "    }\n",
              "\n",
              "    .dataframe thead th {\n",
              "        text-align: right;\n",
              "    }\n",
              "</style>\n",
              "<table border=\"1\" class=\"dataframe\">\n",
              "  <thead>\n",
              "    <tr style=\"text-align: right;\">\n",
              "      <th></th>\n",
              "      <th>CART Train</th>\n",
              "      <th>CART Test</th>\n",
              "      <th>Random Forest Train</th>\n",
              "      <th>Random Forest Test</th>\n",
              "      <th>Neural Network Train</th>\n",
              "      <th>Neural Network Test</th>\n",
              "    </tr>\n",
              "  </thead>\n",
              "  <tbody>\n",
              "    <tr>\n",
              "      <th>Accuracy</th>\n",
              "      <td>0.790</td>\n",
              "      <td>0.750</td>\n",
              "      <td>0.790</td>\n",
              "      <td>0.780</td>\n",
              "      <td>0.770</td>\n",
              "      <td>0.770</td>\n",
              "    </tr>\n",
              "    <tr>\n",
              "      <th>AUC</th>\n",
              "      <td>0.849</td>\n",
              "      <td>0.771</td>\n",
              "      <td>0.835</td>\n",
              "      <td>0.819</td>\n",
              "      <td>0.802</td>\n",
              "      <td>0.804</td>\n",
              "    </tr>\n",
              "    <tr>\n",
              "      <th>Recall</th>\n",
              "      <td>0.590</td>\n",
              "      <td>0.530</td>\n",
              "      <td>0.550</td>\n",
              "      <td>0.530</td>\n",
              "      <td>0.510</td>\n",
              "      <td>0.490</td>\n",
              "    </tr>\n",
              "    <tr>\n",
              "      <th>Precision</th>\n",
              "      <td>0.700</td>\n",
              "      <td>0.630</td>\n",
              "      <td>0.730</td>\n",
              "      <td>0.690</td>\n",
              "      <td>0.680</td>\n",
              "      <td>0.690</td>\n",
              "    </tr>\n",
              "    <tr>\n",
              "      <th>F1 Score</th>\n",
              "      <td>0.640</td>\n",
              "      <td>0.580</td>\n",
              "      <td>0.620</td>\n",
              "      <td>0.600</td>\n",
              "      <td>0.590</td>\n",
              "      <td>0.580</td>\n",
              "    </tr>\n",
              "  </tbody>\n",
              "</table>\n",
              "</div>\n",
              "      <button class=\"colab-df-convert\" onclick=\"convertToInteractive('df-4792e4c1-d08f-4308-b61d-66f3b8677f26')\"\n",
              "              title=\"Convert this dataframe to an interactive table.\"\n",
              "              style=\"display:none;\">\n",
              "        \n",
              "  <svg xmlns=\"http://www.w3.org/2000/svg\" height=\"24px\"viewBox=\"0 0 24 24\"\n",
              "       width=\"24px\">\n",
              "    <path d=\"M0 0h24v24H0V0z\" fill=\"none\"/>\n",
              "    <path d=\"M18.56 5.44l.94 2.06.94-2.06 2.06-.94-2.06-.94-.94-2.06-.94 2.06-2.06.94zm-11 1L8.5 8.5l.94-2.06 2.06-.94-2.06-.94L8.5 2.5l-.94 2.06-2.06.94zm10 10l.94 2.06.94-2.06 2.06-.94-2.06-.94-.94-2.06-.94 2.06-2.06.94z\"/><path d=\"M17.41 7.96l-1.37-1.37c-.4-.4-.92-.59-1.43-.59-.52 0-1.04.2-1.43.59L10.3 9.45l-7.72 7.72c-.78.78-.78 2.05 0 2.83L4 21.41c.39.39.9.59 1.41.59.51 0 1.02-.2 1.41-.59l7.78-7.78 2.81-2.81c.8-.78.8-2.07 0-2.86zM5.41 20L4 18.59l7.72-7.72 1.47 1.35L5.41 20z\"/>\n",
              "  </svg>\n",
              "      </button>\n",
              "      \n",
              "  <style>\n",
              "    .colab-df-container {\n",
              "      display:flex;\n",
              "      flex-wrap:wrap;\n",
              "      gap: 12px;\n",
              "    }\n",
              "\n",
              "    .colab-df-convert {\n",
              "      background-color: #E8F0FE;\n",
              "      border: none;\n",
              "      border-radius: 50%;\n",
              "      cursor: pointer;\n",
              "      display: none;\n",
              "      fill: #1967D2;\n",
              "      height: 32px;\n",
              "      padding: 0 0 0 0;\n",
              "      width: 32px;\n",
              "    }\n",
              "\n",
              "    .colab-df-convert:hover {\n",
              "      background-color: #E2EBFA;\n",
              "      box-shadow: 0px 1px 2px rgba(60, 64, 67, 0.3), 0px 1px 3px 1px rgba(60, 64, 67, 0.15);\n",
              "      fill: #174EA6;\n",
              "    }\n",
              "\n",
              "    [theme=dark] .colab-df-convert {\n",
              "      background-color: #3B4455;\n",
              "      fill: #D2E3FC;\n",
              "    }\n",
              "\n",
              "    [theme=dark] .colab-df-convert:hover {\n",
              "      background-color: #434B5C;\n",
              "      box-shadow: 0px 1px 3px 1px rgba(0, 0, 0, 0.15);\n",
              "      filter: drop-shadow(0px 1px 2px rgba(0, 0, 0, 0.3));\n",
              "      fill: #FFFFFF;\n",
              "    }\n",
              "  </style>\n",
              "\n",
              "      <script>\n",
              "        const buttonEl =\n",
              "          document.querySelector('#df-4792e4c1-d08f-4308-b61d-66f3b8677f26 button.colab-df-convert');\n",
              "        buttonEl.style.display =\n",
              "          google.colab.kernel.accessAllowed ? 'block' : 'none';\n",
              "\n",
              "        async function convertToInteractive(key) {\n",
              "          const element = document.querySelector('#df-4792e4c1-d08f-4308-b61d-66f3b8677f26');\n",
              "          const dataTable =\n",
              "            await google.colab.kernel.invokeFunction('convertToInteractive',\n",
              "                                                     [key], {});\n",
              "          if (!dataTable) return;\n",
              "\n",
              "          const docLinkHtml = 'Like what you see? Visit the ' +\n",
              "            '<a target=\"_blank\" href=https://colab.research.google.com/notebooks/data_table.ipynb>data table notebook</a>'\n",
              "            + ' to learn more about interactive tables.';\n",
              "          element.innerHTML = '';\n",
              "          dataTable['output_type'] = 'display_data';\n",
              "          await google.colab.output.renderOutput(dataTable, element);\n",
              "          const docLink = document.createElement('div');\n",
              "          docLink.innerHTML = docLinkHtml;\n",
              "          element.appendChild(docLink);\n",
              "        }\n",
              "      </script>\n",
              "    </div>\n",
              "  </div>\n",
              "  "
            ]
          },
          "metadata": {},
          "execution_count": 119
        }
      ]
    },
    {
      "cell_type": "markdown",
      "source": [
        "###After overall analysis I am selecting Random Forest model as it has better accuracy, precision, recall, f1 score than both of Decision tree and Artificial neural network model."
      ],
      "metadata": {
        "id": "HRzM7MeNY6qX"
      }
    },
    {
      "cell_type": "markdown",
      "source": [
        "##Ans 1.5"
      ],
      "metadata": {
        "id": "DcqTJi_BZQX3"
      }
    },
    {
      "cell_type": "markdown",
      "source": [
        "###I strongly recommend to collect more real time unstructured data and past data if possible.\n",
        "\n",
        "###After analysing and looking at the insurance data by drawing relations between different variables I can see that - \n",
        "\n",
        "* Streamlining online experiences benefited customers leading to an increase in conversions, which subsequently raised profits. \n",
        "* As per the data 90% of insurance is done by online channel. \n",
        "* Other interesting fact, is almost all the offline business has a claimed associated, need to find why? \n",
        "* Need to train the JZI agency resources to pick up sales as they are in bottom, need to run promotional marketing campaign or evaluate if we need to tie up with alternate agency \n",
        "* Also based on the model we are getting 80% accuracy, so we need customer books airline tickets or plans, cross sell the insurance based on the claim data pattern. \n",
        "* Other interesting fact is more sales happened via Travel Agency than Airlines and the trend shows that the claims are processed more at Airline. So we may need to deep dive into the process to understand the workflow."
      ],
      "metadata": {
        "id": "Fmr2kyrhZS7u"
      }
    }
  ]
}